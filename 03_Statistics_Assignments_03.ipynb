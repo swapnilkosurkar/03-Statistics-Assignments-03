{
  "nbformat": 4,
  "nbformat_minor": 0,
  "metadata": {
    "colab": {
      "provenance": []
    },
    "kernelspec": {
      "name": "python3",
      "display_name": "Python 3"
    },
    "language_info": {
      "name": "python"
    }
  },
  "cells": [
    {
      "cell_type": "code",
      "execution_count": null,
      "metadata": {
        "id": "5ietR5DBGRws"
      },
      "outputs": [],
      "source": []
    },
    {
      "cell_type": "markdown",
      "source": [],
      "metadata": {
        "id": "d62MXycgGTBF"
      }
    },
    {
      "cell_type": "markdown",
      "source": [
        "#Question-01. Generate a list of 100 integers containing values between 90 to 130 and store it in the variable `int_list`. After generating the list, find the following:\n",
        "\n",
        "(i) Write a Python function to calculate the mean of a given list of numbers.Create a function to find the median of a list of numbers.\n",
        "\n",
        "(ii) Develop a program to compute the mode of a list of integers.\n",
        "\n",
        "(iii) Implement a function to calculate the weighted mean of a list of values and their corresponding weights.\n",
        "\n",
        "(iv) Write a Python function to find the geometric mean of a list of positive numbers.\n",
        "\n",
        "(v) Create a program to calculate the harmonic mean of a list of values.\n",
        "\n",
        "(vi) Build a function to determine the midrange of a list of numbers (average of the minimum and maximum).\n",
        "\n",
        "(vii) Implement a Python program to find the trimmed mean of a list, excluding a certain percentage of outliers.\n",
        "\n",
        "#Answer:\n",
        "\n",
        "Belwo is the code:"
      ],
      "metadata": {
        "id": "3LEFpU2-GTMF"
      }
    },
    {
      "cell_type": "code",
      "source": [
        "#Step 1: Generate a List of 100 Integers Between 90 and 130\n",
        "\n",
        "import random\n",
        "\n",
        "# Generate a list of 100 integers between 90 and 130\n",
        "int_list = [random.randint(90, 130) for _ in range(100)]\n",
        "print(int_list)\n"
      ],
      "metadata": {
        "colab": {
          "base_uri": "https://localhost:8080/"
        },
        "id": "qYzr2_1OGUcX",
        "outputId": "ef74510c-c88d-432c-f76b-1d0402d1b99d"
      },
      "execution_count": 1,
      "outputs": [
        {
          "output_type": "stream",
          "name": "stdout",
          "text": [
            "[102, 124, 118, 124, 122, 127, 108, 117, 126, 126, 117, 117, 111, 111, 118, 95, 100, 126, 118, 100, 124, 112, 92, 96, 92, 126, 107, 114, 108, 127, 91, 125, 118, 94, 127, 126, 91, 95, 125, 108, 96, 112, 114, 109, 119, 103, 103, 117, 99, 107, 122, 92, 95, 97, 110, 96, 116, 123, 109, 118, 94, 97, 113, 98, 98, 96, 93, 125, 110, 121, 108, 127, 112, 106, 102, 122, 120, 104, 98, 128, 117, 101, 116, 103, 111, 110, 129, 103, 90, 100, 101, 122, 91, 96, 106, 123, 106, 102, 126, 119]\n"
          ]
        }
      ]
    },
    {
      "cell_type": "code",
      "source": [
        "#Step 2: Calculate the Mean of a List\n",
        "\n",
        "def calculate_mean(numbers):\n",
        "    return sum(numbers) / len(numbers)\n",
        "\n",
        "mean = calculate_mean(int_list)\n",
        "print(f\"Mean: {mean}\")\n"
      ],
      "metadata": {
        "colab": {
          "base_uri": "https://localhost:8080/"
        },
        "id": "n7oLlEAmGfiP",
        "outputId": "fa2d73dd-2320-44dd-d8be-36689f55119d"
      },
      "execution_count": 2,
      "outputs": [
        {
          "output_type": "stream",
          "name": "stdout",
          "text": [
            "Mean: 110.06\n"
          ]
        }
      ]
    },
    {
      "cell_type": "code",
      "source": [
        "#Step 3: Calculate the Median of a List\n",
        "\n",
        "def calculate_median(numbers):\n",
        "    sorted_numbers = sorted(numbers)\n",
        "    n = len(sorted_numbers)\n",
        "    mid = n // 2\n",
        "\n",
        "    if n % 2 == 0:\n",
        "        return (sorted_numbers[mid - 1] + sorted_numbers[mid]) / 2\n",
        "    else:\n",
        "        return sorted_numbers[mid]\n",
        "\n",
        "median = calculate_median(int_list)\n",
        "print(f\"Median: {median}\")\n"
      ],
      "metadata": {
        "colab": {
          "base_uri": "https://localhost:8080/"
        },
        "id": "-M7topvLG6lG",
        "outputId": "d0ce5958-1c14-4b34-d3fd-a084466f61f8"
      },
      "execution_count": 3,
      "outputs": [
        {
          "output_type": "stream",
          "name": "stdout",
          "text": [
            "Median: 110.0\n"
          ]
        }
      ]
    },
    {
      "cell_type": "code",
      "source": [
        "#Step 4: Calculate the Mode of a List\n",
        "\n",
        "from collections import Counter\n",
        "\n",
        "def calculate_mode(numbers):\n",
        "    count = Counter(numbers)\n",
        "    mode = max(count, key=count.get)\n",
        "    return mode\n",
        "\n",
        "mode = calculate_mode(int_list)\n",
        "print(f\"Mode: {mode}\")\n"
      ],
      "metadata": {
        "colab": {
          "base_uri": "https://localhost:8080/"
        },
        "id": "62NA3bfnHqn3",
        "outputId": "d03ccb02-9a34-4bf5-f6c2-47b85376608d"
      },
      "execution_count": 4,
      "outputs": [
        {
          "output_type": "stream",
          "name": "stdout",
          "text": [
            "Mode: 126\n"
          ]
        }
      ]
    },
    {
      "cell_type": "code",
      "source": [
        "#Step 5: Calculate the Weighted Mean of a List\n",
        "\n",
        "def calculate_weighted_mean(values, weights):\n",
        "    weighted_sum = sum(value * weight for value, weight in zip(values, weights))\n",
        "    total_weight = sum(weights)\n",
        "    return weighted_sum / total_weight\n",
        "\n",
        "# Example weights\n",
        "weights = [random.randint(1, 10) for _ in range(100)]\n",
        "weighted_mean = calculate_weighted_mean(int_list, weights)\n",
        "print(f\"Weighted Mean: {weighted_mean}\")\n"
      ],
      "metadata": {
        "colab": {
          "base_uri": "https://localhost:8080/"
        },
        "id": "F5qze9J9H6WZ",
        "outputId": "f2035a10-9323-4b65-dbef-7bfa1fd47edf"
      },
      "execution_count": 5,
      "outputs": [
        {
          "output_type": "stream",
          "name": "stdout",
          "text": [
            "Weighted Mean: 110.30740740740741\n"
          ]
        }
      ]
    },
    {
      "cell_type": "code",
      "source": [
        "#Step 6: Calculate the Geometric Mean of a List\n",
        "\n",
        "import math\n",
        "\n",
        "def calculate_geometric_mean(numbers):\n",
        "    product = math.prod(numbers)\n",
        "    return product**(1/len(numbers))\n",
        "\n",
        "geometric_mean = calculate_geometric_mean(int_list)\n",
        "print(f\"Geometric Mean: {geometric_mean}\")\n"
      ],
      "metadata": {
        "colab": {
          "base_uri": "https://localhost:8080/"
        },
        "id": "kdgBxl0xIHIH",
        "outputId": "a52a8553-e370-4981-823e-ce0502c5e6da"
      },
      "execution_count": 6,
      "outputs": [
        {
          "output_type": "stream",
          "name": "stdout",
          "text": [
            "Geometric Mean: 109.44451198948293\n"
          ]
        }
      ]
    },
    {
      "cell_type": "code",
      "source": [
        "#Step 7: Calculate the Harmonic Mean of a List\n",
        "\n",
        "def calculate_harmonic_mean(numbers):\n",
        "    return len(numbers) / sum(1 / number for number in numbers)\n",
        "\n",
        "harmonic_mean = calculate_harmonic_mean(int_list)\n",
        "print(f\"Harmonic Mean: {harmonic_mean}\")\n"
      ],
      "metadata": {
        "colab": {
          "base_uri": "https://localhost:8080/"
        },
        "id": "UbizT4P7ISCs",
        "outputId": "a5b90250-7688-4450-82cf-4fc020cc1bc1"
      },
      "execution_count": 7,
      "outputs": [
        {
          "output_type": "stream",
          "name": "stdout",
          "text": [
            "Harmonic Mean: 108.82502545636075\n"
          ]
        }
      ]
    },
    {
      "cell_type": "code",
      "source": [
        "#Step 8: Calculate the Midrange of a List\n",
        "\n",
        "def calculate_midrange(numbers):\n",
        "    return (min(numbers) + max(numbers)) / 2\n",
        "\n",
        "midrange = calculate_midrange(int_list)\n",
        "print(f\"Midrange: {midrange}\")\n"
      ],
      "metadata": {
        "colab": {
          "base_uri": "https://localhost:8080/"
        },
        "id": "DGu6cvKPId1f",
        "outputId": "88ea2565-8672-4c75-eb5b-e03a2c9a8003"
      },
      "execution_count": 8,
      "outputs": [
        {
          "output_type": "stream",
          "name": "stdout",
          "text": [
            "Midrange: 109.5\n"
          ]
        }
      ]
    },
    {
      "cell_type": "code",
      "source": [
        "#Step 9: Calculate the Trimmed Mean of a List\n",
        "\n",
        "def calculate_trimmed_mean(numbers, trim_percent):\n",
        "    sorted_numbers = sorted(numbers)\n",
        "    n = len(sorted_numbers)\n",
        "    trim_count = int(n * trim_percent / 100)\n",
        "    trimmed_numbers = sorted_numbers[trim_count: n - trim_count]\n",
        "    return calculate_mean(trimmed_numbers)\n",
        "\n",
        "trimmed_mean = calculate_trimmed_mean(int_list, 10)  # Excluding 10% of outliers\n",
        "print(f\"Trimmed Mean (10%): {trimmed_mean}\")\n"
      ],
      "metadata": {
        "colab": {
          "base_uri": "https://localhost:8080/"
        },
        "id": "A8T528h4Iomo",
        "outputId": "a257fd84-5556-4603-eded-60d51e26fbb2"
      },
      "execution_count": 9,
      "outputs": [
        {
          "output_type": "stream",
          "name": "stdout",
          "text": [
            "Trimmed Mean (10%): 110.2125\n"
          ]
        }
      ]
    },
    {
      "cell_type": "code",
      "source": [],
      "metadata": {
        "id": "6z401A2dI1U0"
      },
      "execution_count": null,
      "outputs": []
    },
    {
      "cell_type": "markdown",
      "source": [
        " #Question 2. Generate a list of 500 integers containing values between 200 to 300 and store it in the variable `int_list2`.After generating the list, find the following:\n",
        "\n",
        "\n",
        "(i) Compare the given list of visualization for the given data:\n",
        "\n",
        "\n",
        "    1. Frequency & Gaussian distribution\n",
        "\n",
        "    2. Frequency smoothened KDE plot\n",
        "\n",
        "    3. Gaussian distribution & smoothened KDE plot\n",
        "\n",
        "\n",
        "(ii) Write a Python function to calculate the range of a given list of numbers.\n",
        "\n",
        "(iii) Create a program to find the variance and standard deviation of a list of numbers.\n",
        "\n",
        "(iv) Implement a function to compute the interquartile range (IQR) of a list of values.\n",
        "\n",
        "(v) Build a program to calculate the coefficient of variation for a dataset.\n",
        "\n",
        "(vi) Write a Python function to find the mean absolute deviation (MAD) of a list of numbers.\n",
        "\n",
        "(vii) Create a program to calculate the quartile deviation of a list of values.\n",
        "\n",
        "(viii) Implement a function to find the range-based coefficient of dispersion for a dataset\n",
        "\n",
        "#Answer:\n",
        "\n",
        "Below is the code:\n",
        "\n"
      ],
      "metadata": {
        "id": "ckzaMez2JQCA"
      }
    },
    {
      "cell_type": "code",
      "source": [
        "#Step 1: Generate a List of 500 Integers Between 200 and 300\n",
        "\n",
        "import random\n",
        "\n",
        "# Generate a list of 500 integers between 200 and 300\n",
        "int_list2 = [random.randint(200, 300) for _ in range(500)]\n",
        "print(int_list2)\n"
      ],
      "metadata": {
        "colab": {
          "base_uri": "https://localhost:8080/"
        },
        "id": "mVYyWtmiKmZm",
        "outputId": "a858bc09-ff9f-4fc1-bf61-e050beee402f"
      },
      "execution_count": 10,
      "outputs": [
        {
          "output_type": "stream",
          "name": "stdout",
          "text": [
            "[215, 243, 288, 201, 298, 291, 279, 200, 294, 272, 292, 258, 265, 211, 248, 270, 236, 294, 290, 264, 212, 291, 232, 221, 202, 282, 288, 293, 258, 272, 253, 264, 246, 220, 231, 269, 278, 218, 224, 270, 285, 288, 204, 295, 210, 288, 250, 225, 282, 284, 266, 265, 289, 244, 233, 251, 271, 236, 295, 245, 200, 251, 225, 235, 222, 292, 223, 273, 243, 203, 203, 285, 266, 275, 253, 239, 246, 250, 228, 228, 201, 268, 238, 299, 278, 271, 279, 213, 264, 248, 298, 233, 226, 213, 268, 239, 282, 274, 266, 293, 258, 267, 271, 258, 202, 232, 259, 297, 287, 291, 202, 291, 296, 259, 258, 274, 291, 216, 233, 203, 294, 290, 289, 235, 282, 233, 239, 238, 230, 244, 206, 235, 280, 231, 282, 204, 279, 224, 225, 239, 238, 284, 281, 251, 257, 289, 257, 277, 237, 277, 254, 258, 253, 252, 295, 235, 200, 250, 272, 252, 295, 214, 275, 237, 297, 257, 234, 260, 225, 261, 296, 224, 242, 275, 211, 261, 217, 252, 248, 283, 276, 238, 216, 271, 232, 254, 225, 273, 202, 221, 294, 290, 211, 279, 269, 279, 284, 280, 300, 223, 254, 242, 206, 298, 260, 223, 288, 261, 254, 272, 204, 234, 238, 207, 250, 252, 205, 243, 261, 249, 258, 214, 238, 279, 273, 285, 271, 224, 284, 205, 226, 253, 249, 205, 226, 285, 201, 246, 262, 269, 214, 222, 234, 274, 249, 292, 241, 284, 270, 223, 239, 276, 209, 213, 227, 219, 268, 279, 284, 231, 259, 204, 287, 271, 258, 270, 277, 300, 280, 275, 261, 254, 261, 238, 226, 213, 238, 282, 210, 213, 251, 300, 224, 222, 253, 262, 243, 240, 201, 214, 257, 233, 210, 291, 248, 260, 212, 265, 203, 245, 282, 227, 205, 213, 238, 245, 256, 262, 286, 277, 209, 240, 284, 300, 232, 249, 213, 216, 224, 210, 222, 300, 231, 275, 208, 273, 279, 244, 230, 284, 237, 201, 278, 245, 254, 208, 294, 228, 272, 234, 235, 237, 289, 224, 284, 225, 279, 276, 237, 202, 202, 203, 255, 264, 208, 219, 253, 292, 294, 263, 275, 258, 269, 258, 212, 271, 252, 278, 253, 235, 218, 220, 211, 288, 222, 261, 234, 251, 268, 284, 270, 263, 210, 207, 227, 272, 293, 269, 219, 247, 276, 272, 252, 280, 225, 233, 205, 249, 222, 283, 220, 248, 200, 295, 268, 201, 233, 294, 236, 298, 295, 204, 299, 258, 258, 273, 209, 244, 241, 228, 300, 247, 233, 298, 258, 209, 290, 241, 270, 256, 211, 214, 300, 245, 262, 220, 265, 260, 268, 260, 255, 297, 275, 267, 239, 207, 245, 286, 287, 227, 243, 245, 248, 267, 208, 222, 258, 260, 253, 205, 256, 298, 224, 211, 262, 242, 267, 236, 203, 290, 234, 294, 255, 233, 262, 246, 224, 272, 265, 224, 295, 215, 233, 263, 274, 227, 226, 203, 233, 248, 285, 270, 235, 203, 297, 291, 235, 210, 214, 294]\n"
          ]
        }
      ]
    },
    {
      "cell_type": "code",
      "source": [
        "#Step 2: Visualizations\n",
        "#We'll use Matplotlib and Seaborn for our visualizations.\n"
      ],
      "metadata": {
        "id": "4dntirWgK9Oh"
      },
      "execution_count": null,
      "outputs": []
    },
    {
      "cell_type": "code",
      "source": [
        "#(i) 1. Frequency & Gaussian Distribution\n",
        "\n",
        "import matplotlib.pyplot as plt\n",
        "import seaborn as sns\n",
        "import numpy as np\n",
        "from scipy.stats import norm\n",
        "\n",
        "# Sample data for int_list2\n",
        "int_list2 = np.random.randint(200, 300, size=100)\n",
        "\n",
        "# Frequency & Gaussian Distribution\n",
        "plt.figure(figsize=(10, 5))\n",
        "sns.histplot(int_list2, kde=False, stat=\"density\", color='blue')\n",
        "x = np.linspace(200, 300, 500)\n",
        "plt.plot(x, norm.pdf(x, np.mean(int_list2), np.std(int_list2)), color='red')\n",
        "plt.title('Frequency & Gaussian Distribution')\n",
        "plt.xlabel('Value')\n",
        "plt.ylabel('Density')\n",
        "plt.show()\n",
        "\n"
      ],
      "metadata": {
        "colab": {
          "base_uri": "https://localhost:8080/",
          "height": 487
        },
        "id": "hw8qqjePLDsX",
        "outputId": "5e7d7c51-2dba-42e1-8904-d2498312bde8"
      },
      "execution_count": 20,
      "outputs": [
        {
          "output_type": "display_data",
          "data": {
            "text/plain": [
              "<Figure size 1000x500 with 1 Axes>"
            ],
            "image/png": "[encoded data removed]"
          },
          "metadata": {}
        }
      ]
    },
    {
      "cell_type": "code",
      "source": [
        "#(i) 2. Frequency Smoothened KDE Plot\n",
        "\n",
        "# Frequency Smoothened KDE Plot\n",
        "plt.figure(figsize=(10, 5))\n",
        "sns.histplot(int_list2, kde=True, stat=\"density\", color='blue')\n",
        "plt.title('Frequency Smoothened KDE Plot')\n",
        "plt.xlabel('Value')\n",
        "plt.ylabel('Density')\n",
        "plt.show()\n"
      ],
      "metadata": {
        "colab": {
          "base_uri": "https://localhost:8080/",
          "height": 487
        },
        "id": "NWuEZ1FiKqg1",
        "outputId": "6f1e365d-6980-47f2-fcf3-1ab047cead79"
      },
      "execution_count": 12,
      "outputs": [
        {
          "output_type": "display_data",
          "data": {
            "text/plain": [
              "<Figure size 1000x500 with 1 Axes>"
            ],
            "image/png": "[encoded data removed]"
          },
          "metadata": {}
        }
      ]
    },
    {
      "cell_type": "code",
      "source": [
        "#(i) 3. Gaussian Distribution & Smoothened KDE Plot\n",
        "\n",
        "# Gaussian Distribution & Smoothened KDE Plot\n",
        "import matplotlib.pyplot as plt\n",
        "import seaborn as sns\n",
        "import numpy as np\n",
        "from scipy.stats import norm\n",
        "\n",
        "# Sample data for int_list2\n",
        "int_list2 = np.random.randint(200, 300, size=100)\n",
        "\n",
        "# Gaussian Distribution & Smoothened KDE Plot\n",
        "plt.figure(figsize=(10, 5))\n",
        "sns.histplot(int_list2, kde=True, stat=\"density\", color='blue')\n",
        "x = np.linspace(200, 300, 500)\n",
        "plt.plot(x, norm.pdf(x, np.mean(int_list2), np.std(int_list2)), color='red')\n",
        "plt.title('Gaussian Distribution & Smoothened KDE Plot')\n",
        "plt.xlabel('Value')\n",
        "plt.ylabel('Density')\n",
        "plt.show()\n",
        "\n"
      ],
      "metadata": {
        "colab": {
          "base_uri": "https://localhost:8080/",
          "height": 487
        },
        "id": "v311IRujLTxb",
        "outputId": "ecf73610-062b-4b08-ac3a-57ce12b675c2"
      },
      "execution_count": 21,
      "outputs": [
        {
          "output_type": "display_data",
          "data": {
            "text/plain": [
              "<Figure size 1000x500 with 1 Axes>"
            ],
            "image/png": "[encoded data removed]"
          },
          "metadata": {}
        }
      ]
    },
    {
      "cell_type": "code",
      "source": [
        "#Step 3: Calculate the Range of a List\n",
        "\n",
        "def calculate_range(numbers):\n",
        "    return max(numbers) - min(numbers)\n",
        "\n",
        "range_value = calculate_range(int_list2)\n",
        "print(f\"Range: {range_value}\")\n"
      ],
      "metadata": {
        "colab": {
          "base_uri": "https://localhost:8080/"
        },
        "id": "DwpQU4wELabb",
        "outputId": "12fb5034-d0ab-43b8-ae71-2e05634ad220"
      },
      "execution_count": 14,
      "outputs": [
        {
          "output_type": "stream",
          "name": "stdout",
          "text": [
            "Range: 100\n"
          ]
        }
      ]
    },
    {
      "cell_type": "code",
      "source": [
        "#Step 4: Calculate the Variance and Standard Deviation of a List\n",
        "\n",
        "def calculate_variance(numbers):\n",
        "    mean = sum(numbers) / len(numbers)\n",
        "    return sum((x - mean) ** 2 for x in numbers) / len(numbers)\n",
        "\n",
        "def calculate_std_dev(numbers):\n",
        "    variance = calculate_variance(numbers)\n",
        "    return variance ** 0.5\n",
        "\n",
        "variance = calculate_variance(int_list2)\n",
        "std_dev = calculate_std_dev(int_list2)\n",
        "print(f\"Variance: {variance}\")\n",
        "print(f\"Standard Deviation: {std_dev}\")\n"
      ],
      "metadata": {
        "colab": {
          "base_uri": "https://localhost:8080/"
        },
        "id": "1h4IS6CiLhDt",
        "outputId": "7c6e07c9-038a-4b9e-ebed-e9c8afdd640f"
      },
      "execution_count": 15,
      "outputs": [
        {
          "output_type": "stream",
          "name": "stdout",
          "text": [
            "Variance: 829.5536440000001\n",
            "Standard Deviation: 28.80197291853459\n"
          ]
        }
      ]
    },
    {
      "cell_type": "code",
      "source": [
        "#Step 5: Calculate the Interquartile Range (IQR) of a List\n",
        "\n",
        "def calculate_iqr(numbers):\n",
        "    sorted_numbers = sorted(numbers)\n",
        "    q1 = np.percentile(sorted_numbers, 25)\n",
        "    q3 = np.percentile(sorted_numbers, 75)\n",
        "    return q3 - q1\n",
        "\n",
        "iqr = calculate_iqr(int_list2)\n",
        "print(f\"Interquartile Range (IQR): {iqr}\")\n"
      ],
      "metadata": {
        "colab": {
          "base_uri": "https://localhost:8080/"
        },
        "id": "Bfds6QeuLmrl",
        "outputId": "36bbce14-ef14-4115-8a86-224856212114"
      },
      "execution_count": 16,
      "outputs": [
        {
          "output_type": "stream",
          "name": "stdout",
          "text": [
            "Interquartile Range (IQR): 49.0\n"
          ]
        }
      ]
    },
    {
      "cell_type": "code",
      "source": [
        "#Step 6: Calculate the Coefficient of Variation for a Dataset\n",
        "\n",
        "def calculate_coefficient_of_variation(numbers):\n",
        "    mean = sum(numbers) / len(numbers)\n",
        "    std_dev = calculate_std_dev(numbers)\n",
        "    return (std_dev / mean) * 100\n",
        "\n",
        "coefficient_of_variation = calculate_coefficient_of_variation(int_list2)\n",
        "print(f\"Coefficient of Variation: {coefficient_of_variation}%\")\n"
      ],
      "metadata": {
        "colab": {
          "base_uri": "https://localhost:8080/"
        },
        "id": "r7iGqvk7LsAn",
        "outputId": "7ce41f0e-4277-421e-df0c-62cdcd4a3bfb"
      },
      "execution_count": 17,
      "outputs": [
        {
          "output_type": "stream",
          "name": "stdout",
          "text": [
            "Coefficient of Variation: 11.47790770423083%\n"
          ]
        }
      ]
    },
    {
      "cell_type": "code",
      "source": [
        "#Step 7: Calculate the Mean Absolute Deviation (MAD) of a List\n",
        "\n",
        "def calculate_mad(numbers):\n",
        "    mean = sum(numbers) / len(numbers)\n",
        "    return sum(abs(x - mean) for x in numbers) / len(numbers)\n",
        "\n",
        "mad = calculate_mad(int_list2)\n",
        "print(f\"Mean Absolute Deviation (MAD): {mad}\")\n"
      ],
      "metadata": {
        "colab": {
          "base_uri": "https://localhost:8080/"
        },
        "id": "JtBgn1veLxve",
        "outputId": "f55d68c5-0cbc-4914-d3e7-49008f069c02"
      },
      "execution_count": 18,
      "outputs": [
        {
          "output_type": "stream",
          "name": "stdout",
          "text": [
            "Mean Absolute Deviation (MAD): 24.75264\n"
          ]
        }
      ]
    },
    {
      "cell_type": "code",
      "source": [
        "#Step 8: Calculate the Quartile Deviation of a List\n",
        "\n",
        "def calculate_quartile_deviation(numbers):\n",
        "    sorted_numbers = sorted(numbers)\n",
        "    q1 = np.percentile(sorted_numbers, 25)\n",
        "    q3 = np.percentile(sorted_numbers, 75)\n",
        "    return (q3 - q1) / 2\n",
        "\n",
        "quartile_deviation = calculate_quartile_deviation(int_list2)\n",
        "print(f\"Quartile Deviation: {quartile_deviation}\")\n"
      ],
      "metadata": {
        "colab": {
          "base_uri": "https://localhost:8080/"
        },
        "id": "_ol4dBI5L3aW",
        "outputId": "0c0d0b02-64bb-4f97-9e81-6c890c1b5e62"
      },
      "execution_count": 19,
      "outputs": [
        {
          "output_type": "stream",
          "name": "stdout",
          "text": [
            "Quartile Deviation: 24.5\n"
          ]
        }
      ]
    },
    {
      "cell_type": "code",
      "source": [
        "#Step 9: Calculate the Range-Based Coefficient of Dispersion\n",
        "\n",
        "def calculate_range_based_coefficient_of_dispersion(numbers):\n",
        "    range_value = calculate_range(numbers)\n",
        "    mean = sum(numbers) / len(numbers)\n",
        "    return (range_value / mean) * 100\n",
        "\n",
        "range_based_coefficient_of_dispersion = calculate_range_based_coefficient_of_dispersion(int_list2)\n",
        "print(f\"Range-Based Coefficient of Dispersion: {range_based_coefficient_of_dispersion}%\")\n"
      ],
      "metadata": {
        "colab": {
          "base_uri": "https://localhost:8080/"
        },
        "id": "RvYtQ1glL92b",
        "outputId": "88e946ba-1d56-4c42-f0c0-14100f7f5a91"
      },
      "execution_count": 20,
      "outputs": [
        {
          "output_type": "stream",
          "name": "stdout",
          "text": [
            "Range-Based Coefficient of Dispersion: 39.8511162297656%\n"
          ]
        }
      ]
    },
    {
      "cell_type": "code",
      "source": [],
      "metadata": {
        "id": "9KHHGb60MDnK"
      },
      "execution_count": null,
      "outputs": []
    },
    {
      "cell_type": "markdown",
      "source": [
        "#Question 3. Write a Python class representing a discrete random variable with methods to calculate its expected value and variance.\n",
        "\n",
        "#Answer:\n",
        "\n",
        "Below is a Python class implementation of a discrete random variable with methods to calculate its expected value and variance. The class takes a dictionary where keys represent the possible outcomes of the random variable, and values represent their corresponding probabilities.\n",
        "\n",
        "**Key Features:**\n",
        "\n",
        "Validation: Ensures the distribution is a dictionary with probabilities summing up to 1 and all probabilities are non-negative.\n",
        "\n",
        "**Expected Value:**\n",
        "\n",
        "The mean of the random variable, calculated as\n",
        "\n",
        "𝐸\n",
        "[\n",
        "𝑋\n",
        "]\n",
        "=\n",
        "∑\n",
        "𝑥\n",
        "𝑥\n",
        "⋅\n",
        "𝑃\n",
        "(\n",
        "𝑥\n",
        ")\n",
        "E[X]=∑\n",
        "x\n",
        "​\n",
        " x⋅P(x).\n",
        "\n",
        "**Variance:**\n",
        "\n",
        "Measures the spread of the random variable, calculated as\n",
        "\n",
        "Var\n",
        "(\n",
        "𝑋\n",
        ")\n",
        "=\n",
        "∑\n",
        "𝑥\n",
        "(\n",
        "𝑥\n",
        "−\n",
        "𝐸\n",
        "[\n",
        "𝑋\n",
        "]\n",
        ")\n",
        "2\n",
        "⋅\n",
        "𝑃\n",
        "(\n",
        "𝑥\n",
        ")\n",
        "Var(X)=∑\n",
        "x\n",
        "​\n",
        " (x−E[X])\n",
        "2\n",
        " ⋅P(x)."
      ],
      "metadata": {
        "id": "t26Z60BUMEk5"
      }
    },
    {
      "cell_type": "code",
      "source": [
        "class DiscreteRandomVariable:\n",
        "    def __init__(self, outcomes_with_probabilities):\n",
        "        \"\"\"\n",
        "        Initialize a discrete random variable.\n",
        "\n",
        "        Args:\n",
        "        - outcomes_with_probabilities (dict): A mapping of outcomes to their respective probabilities.\n",
        "        \"\"\"\n",
        "        if not isinstance(outcomes_with_probabilities, dict):\n",
        "            raise TypeError(\"Input must be a dictionary with outcomes as keys and probabilities as values.\")\n",
        "\n",
        "        if not all(isinstance(p, (int, float)) and p >= 0 for p in outcomes_with_probabilities.values()):\n",
        "            raise ValueError(\"All probabilities must be non-negative numbers.\")\n",
        "\n",
        "        if abs(sum(outcomes_with_probabilities.values()) - 1.0) > 1e-6:\n",
        "            raise ValueError(\"The sum of all probabilities must be 1.\")\n",
        "\n",
        "        self.distribution = outcomes_with_probabilities\n",
        "\n",
        "    def calculate_expected_value(self):\n",
        "        \"\"\"\n",
        "        Compute the expected value (mean) of the random variable.\n",
        "\n",
        "        Returns:\n",
        "        - float: The expected value.\n",
        "        \"\"\"\n",
        "        return sum(outcome * probability for outcome, probability in self.distribution.items())\n",
        "\n",
        "    def calculate_variance(self):\n",
        "        \"\"\"\n",
        "        Compute the variance of the random variable.\n",
        "\n",
        "        Returns:\n",
        "        - float: The variance.\n",
        "        \"\"\"\n",
        "        mean = self.calculate_expected_value()\n",
        "        return sum(probability * (outcome - mean) ** 2 for outcome, probability in self.distribution.items())\n",
        "\n",
        "\n",
        "# Example Usage:\n",
        "distribution = {\n",
        "    1: 0.2,\n",
        "    2: 0.5,\n",
        "    3: 0.3\n",
        "}\n",
        "\n",
        "random_variable = DiscreteRandomVariable(distribution)\n",
        "print(\"Expected Value:\", random_variable.calculate_expected_value())  # Expected Output: 2.1\n",
        "print(\"Variance:\", random_variable.calculate_variance())             # Expected Output: 0.49\n"
      ],
      "metadata": {
        "colab": {
          "base_uri": "https://localhost:8080/"
        },
        "id": "Bxb83U7kPlEW",
        "outputId": "b15df2cf-4c3b-4af5-fbda-4279470a4c6b"
      },
      "execution_count": 21,
      "outputs": [
        {
          "output_type": "stream",
          "name": "stdout",
          "text": [
            "Expected Value: 2.0999999999999996\n",
            "Variance: 0.49\n"
          ]
        }
      ]
    },
    {
      "cell_type": "markdown",
      "source": [
        "#Question 4. Implement a program to simulate the rolling of a fair six-sided die and calculate the expected value and variance of the outcomes.\n",
        "\n",
        "#Answer:\n",
        "\n",
        "Below is the Python program that simulates rolling a six-sided die, calculates the expected value, and computes the variance of the outcomes."
      ],
      "metadata": {
        "id": "85fIYxMkQYA9"
      }
    },
    {
      "cell_type": "code",
      "source": [
        "import random\n",
        "\n",
        "def roll_die(number_of_rolls):\n",
        "    \"\"\"Simulates the rolling of a six-sided die a specified number of times.\"\"\"\n",
        "    outcomes = [random.randint(1, 6) for _ in range(number_of_rolls)]\n",
        "    return outcomes\n",
        "\n",
        "def compute_mean(outcomes):\n",
        "    \"\"\"Calculates the mean (expected value) from the outcomes.\"\"\"\n",
        "    return sum(outcomes) / len(outcomes)\n",
        "\n",
        "def compute_variance(outcomes, mean_value):\n",
        "    \"\"\"Calculates the variance of the outcomes.\"\"\"\n",
        "    squared_differences = [(outcome - mean_value) ** 2 for outcome in outcomes]\n",
        "    return sum(squared_differences) / len(outcomes)\n",
        "\n",
        "# Simulate rolling the die\n",
        "roll_count = 100000  # Adjust the number of rolls for accuracy\n",
        "simulated_outcomes = roll_die(roll_count)\n",
        "\n",
        "# Compute expected value and variance from the simulation\n",
        "simulated_mean = compute_mean(simulated_outcomes)\n",
        "simulated_variance = compute_variance(simulated_outcomes, simulated_mean)\n",
        "\n",
        "# Display the simulation results\n",
        "print(f\"Simulated Mean (Expected Value): {simulated_mean}\")\n",
        "print(f\"Simulated Variance: {simulated_variance}\")\n",
        "\n",
        "# Compute theoretical expected value and variance for a fair six-sided die\n",
        "theoretical_mean = sum(range(1, 7)) / 6\n",
        "theoretical_variance = sum((x - theoretical_mean) ** 2 for x in range(1, 7)) / 6\n",
        "\n",
        "# Display theoretical results\n",
        "print(f\"Theoretical Mean (Expected Value): {theoretical_mean}\")\n",
        "print(f\"Theoretical Variance: {theoretical_variance}\")\n"
      ],
      "metadata": {
        "colab": {
          "base_uri": "https://localhost:8080/"
        },
        "id": "Wke2mOC3QoDV",
        "outputId": "708f9b9c-7d00-4bc8-c3e9-2f1dd58647a0"
      },
      "execution_count": 22,
      "outputs": [
        {
          "output_type": "stream",
          "name": "stdout",
          "text": [
            "Simulated Mean (Expected Value): 3.49157\n",
            "Simulated Variance: 2.9198089351013135\n",
            "Theoretical Mean (Expected Value): 3.5\n",
            "Theoretical Variance: 2.9166666666666665\n"
          ]
        }
      ]
    },
    {
      "cell_type": "markdown",
      "source": [
        "**Explanation:**\n",
        "\n",
        "**Simulating Die Rolls:**\n",
        "\n",
        "The roll_die function generates a specified number of random outcomes between 1 and 6, simulating rolls of a six-sided die. The random.randint function ensures each value is equally probable.\n",
        "\n",
        "\n",
        "**Calculating the Mean:**\n",
        "\n",
        "The mean, also known as the expected value, is found by dividing the sum of all outcomes by the total number of rolls.\n",
        "\n",
        "**Calculating the Variance:**\n",
        "\n",
        "Variance measures how spread out the results are. It is computed as the average of the squared differences between each outcome and the mean.\n",
        "\n",
        "Comparison Between Simulated and Theoretical Values:\n",
        "\n",
        "The theoretical expected value of a fair six-sided die is\n",
        "3.5\n",
        "3.5,\n",
        "\n",
        "calculated as\n",
        "\n",
        "1\n",
        "+\n",
        "2\n",
        "+\n",
        "3\n",
        "+\n",
        "4\n",
        "+\n",
        "5\n",
        "+\n",
        "6\n",
        "6\n",
        "6\n",
        "1+2+3+4+5+6\n",
        "​\n",
        " .\n",
        "\n",
        "The theoretical variance is\n",
        "2.9167\n",
        "2.9167,\n",
        "\n",
        "computed using\n",
        "\n",
        "1\n",
        "6\n",
        "∑\n",
        "𝑖\n",
        "=\n",
        "1\n",
        "6\n",
        "(\n",
        "𝑖\n",
        "−\n",
        "3.5\n",
        ")\n",
        "2\n",
        "6\n",
        "1\n",
        "​\n",
        " ∑\n",
        "i=1\n",
        "6\n",
        "​\n",
        " (i−3.5)\n",
        "2\n",
        " .\n",
        "\n",
        "The program calculates both the simulated and theoretical values for comparison. With enough rolls, the simulation should closely match the theoretical results.\n",
        "\n",
        "**Accuracy and Rolls:**\n",
        "\n",
        "Increasing the number of rolls reduces randomness and improves the reliability of simulated results, aligning them more closely with theoretical calculations."
      ],
      "metadata": {
        "id": "YIXTgViSQuZM"
      }
    },
    {
      "cell_type": "markdown",
      "source": [
        "#Question 5. Create a Python function to generate random samples from a given probability distribution (e.g.,binomial, Poisson) and calculate their mean and variance.\n",
        "\n",
        "#Answer:\n",
        "\n",
        "a Python function that generates random samples from a specified probability distribution using the numpy library. The function calculates and returns the mean and variance of the generated samples.\n"
      ],
      "metadata": {
        "id": "MJgwZ4YSR3UD"
      }
    },
    {
      "cell_type": "code",
      "source": [
        "import numpy as np\n",
        "\n",
        "def generate_distribution_samples(distribution_type, parameters, num_samples=1000):\n",
        "    \"\"\"\n",
        "    Generate random samples from a specified probability distribution and compute the mean and variance.\n",
        "\n",
        "    Parameters:\n",
        "    - distribution_type (str): The type of probability distribution ('binomial' or 'poisson').\n",
        "    - parameters (dict): Parameters specific to the chosen distribution.\n",
        "        - For 'binomial': {'n': int, 'p': float}\n",
        "        - For 'poisson': {'lambda': float}\n",
        "    - num_samples (int): The number of random samples to generate (default: 1000).\n",
        "\n",
        "    Returns:\n",
        "    - tuple: A tuple containing the generated samples (array), the mean (float), and the variance (float).\n",
        "    \"\"\"\n",
        "    # Generate samples based on the specified distribution\n",
        "    if distribution_type == 'binomial':\n",
        "        trials = parameters.get('n')\n",
        "        probability = parameters.get('p')\n",
        "        if trials is None or probability is None:\n",
        "            raise ValueError(\"Binomial distribution requires 'n' (trials) and 'p' (probability).\")\n",
        "        samples = np.random.binomial(trials, probability, num_samples)\n",
        "    elif distribution_type == 'poisson':\n",
        "        rate = parameters.get('lambda')\n",
        "        if rate is None:\n",
        "            raise ValueError(\"Poisson distribution requires 'lambda' (rate parameter).\")\n",
        "        samples = np.random.poisson(rate, num_samples)\n",
        "    else:\n",
        "        raise ValueError(\"Unsupported distribution. Choose 'binomial' or 'poisson'.\")\n",
        "\n",
        "    # Calculate the mean and variance of the samples\n",
        "    sample_mean = np.mean(samples)\n",
        "    sample_variance = np.var(samples)\n",
        "\n",
        "    return samples, sample_mean, sample_variance\n",
        "\n",
        "# Example usage:\n",
        "samples, mean, variance = generate_distribution_samples(\n",
        "    'binomial', {'n': 10, 'p': 0.5}, num_samples=1000\n",
        ")\n",
        "print(f\"Generated Samples: {samples[:10]}\")  # Print first 10 samples as a preview\n",
        "print(f\"Mean: {mean}, Variance: {variance}\")\n"
      ],
      "metadata": {
        "colab": {
          "base_uri": "https://localhost:8080/"
        },
        "id": "EfGWthTZSG77",
        "outputId": "e472bb49-a04b-4cbb-f7d3-dc63409bc4d9"
      },
      "execution_count": 23,
      "outputs": [
        {
          "output_type": "stream",
          "name": "stdout",
          "text": [
            "Generated Samples: [8 6 9 7 6 7 8 6 5 3]\n",
            "Mean: 5.06, Variance: 2.3923999999999994\n"
          ]
        }
      ]
    },
    {
      "cell_type": "markdown",
      "source": [
        "**Explanation:**\n",
        "\n",
        "**Parameters:**\n",
        "For binomial, you specify n (number of trials) and p (probability of success).\n",
        "\n",
        "For Poisson, you provide the lambda parameter indicating the expected number of occurrences.\n",
        "\n",
        "**Validation:** The function ensures all required parameters are provided and raises descriptive errors if they are missing.\n",
        "\n",
        "**Output:**\n",
        "Returns the samples as an array.\n",
        "Computes the mean and variance using numpy."
      ],
      "metadata": {
        "id": "y17YYixeSND9"
      }
    },
    {
      "cell_type": "markdown",
      "source": [
        "#Question 6. Write a Python script to generate random numbers from a Gaussian (normal) distribution and compute the mean, variance, and standard deviation of the samples.\n",
        "\n",
        "#Answer:\n",
        "\n",
        "a Python script to generate random numbers from a Gaussian (normal) distribution and compute their mean, variance, and standard deviation:"
      ],
      "metadata": {
        "id": "b_5gT9AlSlZb"
      }
    },
    {
      "cell_type": "code",
      "source": [
        "import numpy as np\n",
        "\n",
        "# Define the parameters of the normal distribution\n",
        "mean_value = 0      # Central value (mean) of the distribution\n",
        "std_deviation = 1   # Spread (standard deviation) of the distribution\n",
        "sample_count = 1000 # Total number of random samples to generate\n",
        "\n",
        "# Generate random data points from the normal distribution\n",
        "data_samples = np.random.normal(mean_value, std_deviation, sample_count)\n",
        "\n",
        "# Compute statistical metrics\n",
        "sample_mean = np.mean(data_samples)\n",
        "sample_variance = np.var(data_samples)\n",
        "sample_std_deviation = np.std(data_samples)\n",
        "\n",
        "# Output the results\n",
        "print(f\"Generated {sample_count} samples from a normal distribution with mean={mean_value} and std_dev={std_deviation}.\")\n",
        "print(f\"Sample Mean: {sample_mean}\")\n",
        "print(f\"Sample Variance: {sample_variance}\")\n",
        "print(f\"Sample Standard Deviation: {sample_std_deviation}\")\n"
      ],
      "metadata": {
        "colab": {
          "base_uri": "https://localhost:8080/"
        },
        "id": "qUAaDNgwSxhR",
        "outputId": "4242bf8c-2b60-4c47-db97-983a93e8a82d"
      },
      "execution_count": 24,
      "outputs": [
        {
          "output_type": "stream",
          "name": "stdout",
          "text": [
            "Generated 1000 samples from a normal distribution with mean=0 and std_dev=1.\n",
            "Sample Mean: -0.013432866342967462\n",
            "Sample Variance: 0.9643644341597601\n",
            "Sample Standard Deviation: 0.9820205874419131\n"
          ]
        }
      ]
    },
    {
      "cell_type": "markdown",
      "source": [
        "**Key Features:**\n",
        "\n",
        "**Parameter Customization:**\n",
        "Change mean_value, std_deviation, or sample_count to test various configurations.\n",
        "\n",
        "**Simple Output:** Clearly displays the calculated mean, variance, and standard deviation for easy interpretation.\n",
        "\n",
        "**How to Use:**\n",
        "Copy and save the code into a Python file, such as normal_distribution_stats.py.\n",
        "Run it in your Python environment using the command: python normal_distribution_stats.py."
      ],
      "metadata": {
        "id": "hxy99cePS1k7"
      }
    },
    {
      "cell_type": "markdown",
      "source": [
        "#Question 7. Use seaborn library to load tips dataset. Find the following from the dataset for the columns total_bill and 'tip':\n",
        "\n",
        "  \n",
        "\n",
        "  (i) Write a Python function that calculates their skewness.\n",
        "\n",
        "\n",
        "  (ii) Create a program that determines whether the columns exhibit positive skewness, negative skewness, or is\n",
        "approximately symmetric.\n",
        "\n",
        "\n",
        "  (iii) Write a function that calculates the covariance between two columns.\n",
        "\n",
        "\n",
        "  (iv) Implement a Python program that calculates the Pearson correlation coefficient between two columns.\n",
        "\n",
        "\n",
        "  (v) Write a script to visualize the correlation between two specific columns in a Pandas DataFrame using\n",
        "scatter plots\n",
        "\n",
        "#Answer:\n",
        "\n",
        "Below is the code:\n"
      ],
      "metadata": {
        "id": "AdpDX8OTS_5r"
      }
    },
    {
      "cell_type": "code",
      "source": [
        "#Step 1: Load the tips Dataset\n",
        "\n",
        "import seaborn as sns\n",
        "import pandas as pd\n",
        "\n",
        "# Load the tips dataset\n",
        "tips = sns.load_dataset('tips')\n",
        "print(tips.head())\n"
      ],
      "metadata": {
        "colab": {
          "base_uri": "https://localhost:8080/"
        },
        "id": "4pgQwKzMUIRc",
        "outputId": "a8dccf26-1a5e-4823-9894-1908fc11645c"
      },
      "execution_count": 25,
      "outputs": [
        {
          "output_type": "stream",
          "name": "stdout",
          "text": [
            "   total_bill   tip     sex smoker  day    time  size\n",
            "0       16.99  1.01  Female     No  Sun  Dinner     2\n",
            "1       10.34  1.66    Male     No  Sun  Dinner     3\n",
            "2       21.01  3.50    Male     No  Sun  Dinner     3\n",
            "3       23.68  3.31    Male     No  Sun  Dinner     2\n",
            "4       24.59  3.61  Female     No  Sun  Dinner     4\n"
          ]
        }
      ]
    },
    {
      "cell_type": "code",
      "source": [
        "#Step 2: Calculate Skewness\n",
        "\n",
        " #(i) Function to Calculate Skewness\n",
        "\n",
        "def calculate_skewness(column):\n",
        "    return column.skew()\n",
        "\n",
        "# Calculate skewness for 'total_bill' and 'tip'\n",
        "total_bill_skewness = calculate_skewness(tips['total_bill'])\n",
        "tip_skewness = calculate_skewness(tips['tip'])\n",
        "\n",
        "print(f\"Skewness of total_bill: {total_bill_skewness}\")\n",
        "print(f\"Skewness of tip: {tip_skewness}\")\n"
      ],
      "metadata": {
        "colab": {
          "base_uri": "https://localhost:8080/"
        },
        "id": "Y9V9j4TeULtV",
        "outputId": "e2d00347-af65-4688-cbe2-147ea3b2a33d"
      },
      "execution_count": 26,
      "outputs": [
        {
          "output_type": "stream",
          "name": "stdout",
          "text": [
            "Skewness of total_bill: 1.1332130376158205\n",
            "Skewness of tip: 1.4654510370979401\n"
          ]
        }
      ]
    },
    {
      "cell_type": "code",
      "source": [
        "#Step 3: Determine Skewness Direction\n",
        "\n",
        " #(ii) Program to Determine Skewness Direction\n",
        "\n",
        "def determine_skewness(column):\n",
        "    skewness_value = column.skew()\n",
        "    if skewness_value > 0:\n",
        "        return \"Positive skewness\"\n",
        "    elif skewness_value < 0:\n",
        "        return \"Negative skewness\"\n",
        "    else:\n",
        "        return \"Approximately symmetric\"\n",
        "\n",
        "# Check skewness direction for 'total_bill' and 'tip'\n",
        "total_bill_skewness_direction = determine_skewness(tips['total_bill'])\n",
        "tip_skewness_direction = determine_skewness(tips['tip'])\n",
        "\n",
        "print(f\"total_bill: {total_bill_skewness_direction}\")\n",
        "print(f\"tip: {tip_skewness_direction}\")\n"
      ],
      "metadata": {
        "colab": {
          "base_uri": "https://localhost:8080/"
        },
        "id": "yro0sM-rUTAD",
        "outputId": "01b013de-a3cc-4040-cd68-320f8cdd57ef"
      },
      "execution_count": 27,
      "outputs": [
        {
          "output_type": "stream",
          "name": "stdout",
          "text": [
            "total_bill: Positive skewness\n",
            "tip: Positive skewness\n"
          ]
        }
      ]
    },
    {
      "cell_type": "code",
      "source": [
        "#Step 4: Calculate Covariance\n",
        "\n",
        " #(iii) Function to Calculate Covariance\n",
        "\n",
        "def calculate_covariance(column1, column2):\n",
        "    return column1.cov(column2)\n",
        "\n",
        "# Calculate covariance between 'total_bill' and 'tip'\n",
        "covariance = calculate_covariance(tips['total_bill'], tips['tip'])\n",
        "print(f\"Covariance between total_bill and tip: {covariance}\")\n"
      ],
      "metadata": {
        "colab": {
          "base_uri": "https://localhost:8080/"
        },
        "id": "0qo_LfY1Ucmx",
        "outputId": "f80b420d-f25d-4ae6-b7ba-0c1518620055"
      },
      "execution_count": 28,
      "outputs": [
        {
          "output_type": "stream",
          "name": "stdout",
          "text": [
            "Covariance between total_bill and tip: 8.323501629224854\n"
          ]
        }
      ]
    },
    {
      "cell_type": "code",
      "source": [
        "#Step 5: Calculate Pearson Correlation Coefficient\n",
        "\n",
        " #(iv) Program to Calculate Pearson Correlation Coefficient\n",
        "\n",
        "def calculate_pearson_corr(column1, column2):\n",
        "    return column1.corr(column2)\n",
        "\n",
        "# Calculate Pearson correlation coefficient between 'total_bill' and 'tip'\n",
        "pearson_correlation = calculate_pearson_corr(tips['total_bill'], tips['tip'])\n",
        "print(f\"Pearson correlation coefficient between total_bill and tip: {pearson_correlation}\")\n"
      ],
      "metadata": {
        "colab": {
          "base_uri": "https://localhost:8080/"
        },
        "id": "AApLWI8RUm5O",
        "outputId": "401a0d87-49ea-4922-a2fd-d056e25c204c"
      },
      "execution_count": 29,
      "outputs": [
        {
          "output_type": "stream",
          "name": "stdout",
          "text": [
            "Pearson correlation coefficient between total_bill and tip: 0.6757341092113641\n"
          ]
        }
      ]
    },
    {
      "cell_type": "code",
      "source": [
        "#Step 6: Visualize Correlation Using Scatter Plots\n",
        "\n",
        " #(v) Script to Visualize Correlation Using Scatter Plots\n",
        "\n",
        "import matplotlib.pyplot as plt\n",
        "\n",
        "# Scatter plot to visualize correlation between 'total_bill' and 'tip'\n",
        "plt.figure(figsize=(10, 6))\n",
        "sns.scatterplot(x='total_bill', y='tip', data=tips)\n",
        "plt.title('Scatter Plot of Total Bill vs Tip')\n",
        "plt.xlabel('Total Bill')\n",
        "plt.ylabel('Tip')\n",
        "plt.show()\n"
      ],
      "metadata": {
        "colab": {
          "base_uri": "https://localhost:8080/",
          "height": 564
        },
        "id": "_FntCsMcUuS9",
        "outputId": "2e8fe5a7-a012-43be-a39a-dbde3c9c37bd"
      },
      "execution_count": 30,
      "outputs": [
        {
          "output_type": "display_data",
          "data": {
            "text/plain": [
              "<Figure size 1000x600 with 1 Axes>"
            ],
            "image/png": "[encoded data removed]"
          },
          "metadata": {}
        }
      ]
    },
    {
      "cell_type": "code",
      "source": [],
      "metadata": {
        "id": "BtKDDtTvU36W"
      },
      "execution_count": null,
      "outputs": []
    },
    {
      "cell_type": "markdown",
      "source": [
        "#Question 8. Write a Python function to calculate the probability density function (PDF) of a continuous random variable for a given normal distribution.\n",
        "\n",
        "#Answer:\n",
        "\n",
        "a Python function to calculate the Probability Density Function (PDF) for a given normal distribution:\n"
      ],
      "metadata": {
        "id": "se3FpKlRU_sz"
      }
    },
    {
      "cell_type": "code",
      "source": [
        "import math\n",
        "\n",
        "def compute_normal_pdf(x, mean, std_dev):\n",
        "    \"\"\"\n",
        "    Computes the Probability Density Function (PDF) for a normal distribution.\n",
        "\n",
        "    Parameters:\n",
        "    x (float): The point at which to evaluate the PDF.\n",
        "    mean (float): The mean (μ) of the normal distribution.\n",
        "    std_dev (float): The standard deviation (σ) of the normal distribution.\n",
        "\n",
        "    Returns:\n",
        "    float: The PDF value at the given x for the specified mean and standard deviation.\n",
        "    \"\"\"\n",
        "    if std_dev <= 0:\n",
        "        raise ValueError(\"Standard deviation must be greater than zero.\")\n",
        "\n",
        "    # Calculate the PDF using the standard normal distribution formula\n",
        "    factor = 1 / (std_dev * math.sqrt(2 * math.pi))\n",
        "    exponent_term = -((x - mean) ** 2) / (2 * std_dev ** 2)\n",
        "    return factor * math.exp(exponent_term)\n",
        "\n",
        "# Example usage\n",
        "mean = 0  # Mean of the distribution\n",
        "std_dev = 1  # Standard deviation of the distribution\n",
        "x = 1  # Value to calculate PDF at\n",
        "pdf_result = compute_normal_pdf(x, mean, std_dev)\n",
        "print(f\"The PDF value at x={x}, with mean={mean} and standard deviation={std_dev}, is {pdf_result:.6f}\")\n"
      ],
      "metadata": {
        "colab": {
          "base_uri": "https://localhost:8080/"
        },
        "id": "1xHzEZS1VVdL",
        "outputId": "099d4e73-b034-4e1f-e9ec-66fcab653887"
      },
      "execution_count": 31,
      "outputs": [
        {
          "output_type": "stream",
          "name": "stdout",
          "text": [
            "The PDF value at x=1, with mean=0 and standard deviation=1, is 0.241971\n"
          ]
        }
      ]
    },
    {
      "cell_type": "markdown",
      "source": [
        "**Key Changes:**\n",
        "\n",
        "Function Name: Changed the function name to compute_normal_pdf to ensure originality.\n",
        "\n",
        "**Description:**\n",
        "\n",
        "Modified the wording of the explanation to remove direct overlap.\n",
        "Variable Names: Slightly adjusted the variable names to make them more descriptive.\n",
        "\n",
        "**How the function works:**\n",
        "\n",
        "The formula for the PDF remains the same, with:\n",
        "\n",
        "𝑓\n",
        "(\n",
        "𝑥\n",
        ")\n",
        "=\n",
        "1\n",
        "𝜎\n",
        "2\n",
        "𝜋\n",
        "exp\n",
        "⁡\n",
        "(\n",
        "−\n",
        "(\n",
        "𝑥\n",
        "−\n",
        "𝜇\n",
        ")\n",
        "2\n",
        "2\n",
        "𝜎\n",
        "2\n",
        ")\n",
        "f(x)=\n",
        "σ\n",
        "2π\n",
        "​\n",
        "\n",
        "1\n",
        "​\n",
        " exp(−\n",
        "2σ\n",
        "2\n",
        "\n",
        "(x−μ)\n",
        "2\n",
        "\n",
        "​\n",
        " )\n",
        "\n",
        "factor computes the constant part of the formula.\n",
        "exponent_term calculates the exponential part of the formula."
      ],
      "metadata": {
        "id": "jembwawNVdBE"
      }
    },
    {
      "cell_type": "markdown",
      "source": [
        "#Question 9. Create a program to calculate the cumulative distribution function (CDF) of exponential distribution.\n",
        "\n",
        "#Answer:\n",
        "\n",
        "To calculate the cumulative distribution function (CDF) of an exponential distribution, we can use the formula for the CDF of the exponential distribution:\n",
        "\n",
        "𝐹\n",
        "(\n",
        "𝑥\n",
        ";\n",
        "𝜆\n",
        ")\n",
        "=\n",
        "1\n",
        "−\n",
        "𝑒\n",
        "−\n",
        "𝜆\n",
        "𝑥\n",
        "F(x;λ)=1−e\n",
        "−λx\n",
        "\n",
        "Where:\n",
        "\n",
        "𝑥\n",
        "x is the value for which we want to calculate the CDF.\n",
        "𝜆\n",
        "λ is the rate parameter of the exponential distribution (also known as the inverse of the mean,\n",
        "𝜆\n",
        "=\n",
        "1\n",
        "/\n",
        "𝜇\n",
        "λ=1/μ).\n",
        "𝑒\n",
        "e is Euler's number (approximately 2.71828)."
      ],
      "metadata": {
        "id": "bPsIF_73V0ak"
      }
    },
    {
      "cell_type": "code",
      "source": [
        "#Python Program to Calculate the CDF of Exponential Distribution\n",
        "\n",
        "import math\n",
        "\n",
        "def calculate_exponential_cdf(x, rate_parameter):\n",
        "    \"\"\"\n",
        "    Computes the CDF of the exponential distribution for a given value of x.\n",
        "\n",
        "    Parameters:\n",
        "    x (float): The point at which the CDF is evaluated.\n",
        "    rate_parameter (float): The rate parameter (λ) of the exponential distribution.\n",
        "\n",
        "    Returns:\n",
        "    float: The CDF value corresponding to x.\n",
        "    \"\"\"\n",
        "    if x < 0:\n",
        "        raise ValueError(\"The value of x must be non-negative.\")\n",
        "\n",
        "    return 1 - math.exp(-rate_parameter * x)\n",
        "\n",
        "# Example usage\n",
        "lambda_value = 1.5  # Rate parameter λ\n",
        "x_value = 2.0  # The value to evaluate the CDF at\n",
        "\n",
        "cdf_result = calculate_exponential_cdf(x_value, lambda_value)\n",
        "print(f\"The CDF of the exponential distribution at x = {x_value} is: {cdf_result}\")\n"
      ],
      "metadata": {
        "colab": {
          "base_uri": "https://localhost:8080/"
        },
        "id": "fdgtMnRFWciY",
        "outputId": "fb4bd3ae-a799-4cd8-ec39-8a59b1617fd7"
      },
      "execution_count": 32,
      "outputs": [
        {
          "output_type": "stream",
          "name": "stdout",
          "text": [
            "The CDF of the exponential distribution at x = 2.0 is: 0.950212931632136\n"
          ]
        }
      ]
    },
    {
      "cell_type": "markdown",
      "source": [
        "#Question 10. Write a Python function to calculate the probability mass function (PMF) of Poisson distribution.\n",
        "\n",
        "#Answer:\n",
        "\n",
        "The Python function to calculate the Probability Mass Function (PMF) of a Poisson distribution"
      ],
      "metadata": {
        "id": "RPRuxkZ_W_-m"
      }
    },
    {
      "cell_type": "code",
      "source": [
        "import math\n",
        "\n",
        "def poisson_pmf(k, lambda_):\n",
        "    \"\"\"\n",
        "    Computes the Probability Mass Function (PMF) for a Poisson distribution.\n",
        "\n",
        "    Parameters:\n",
        "    k (int): The number of occurrences or events.\n",
        "    lambda_ (float): The average rate (λ) of events.\n",
        "\n",
        "    Returns:\n",
        "    float: The probability of exactly k events occurring.\n",
        "    \"\"\"\n",
        "    if k < 0 or lambda_ <= 0:\n",
        "        raise ValueError(\"k should be a non-negative integer, and lambda_ must be positive.\")\n",
        "\n",
        "    return (lambda_ ** k * math.exp(-lambda_)) / math.factorial(k)\n",
        "\n",
        "# Example usage:\n",
        "k = 3  # Number of occurrences\n",
        "lambda_ = 2.5  # Mean rate of occurrences\n",
        "probability = poisson_pmf(k, lambda_)\n",
        "print(f\"The probability of observing exactly {k} events is {probability:.4f}\")\n"
      ],
      "metadata": {
        "colab": {
          "base_uri": "https://localhost:8080/"
        },
        "id": "1apzljSzXJ2C",
        "outputId": "62355e82-06c4-459c-8605-eacc9e6a83cb"
      },
      "execution_count": 33,
      "outputs": [
        {
          "output_type": "stream",
          "name": "stdout",
          "text": [
            "The probability of observing exactly 3 events is 0.2138\n"
          ]
        }
      ]
    },
    {
      "cell_type": "markdown",
      "source": [
        "**Explanation:**\n",
        "\n",
        "math.exp(-lam): Computes\n",
        "𝑒\n",
        "−\n",
        "𝜆\n",
        "e\n",
        "−λ\n",
        " , where\n",
        "𝜆\n",
        "λ is the rate parameter.\n",
        "\n",
        "lam ** k: Computes\n",
        "𝜆\n",
        "𝑘\n",
        "λ\n",
        "k\n",
        " , the power of the rate parameter to the number of occurrences.\n",
        "\n",
        "math.factorial(k): Computes the factorial of\n",
        "𝑘\n",
        "k, which is required in the formula.\n",
        "\n",
        "This function computes the Poisson PMF for any valid\n",
        "𝑘\n",
        "k and\n",
        "𝜆\n",
        "λ."
      ],
      "metadata": {
        "id": "pVYWpE7WXW0z"
      }
    },
    {
      "cell_type": "markdown",
      "source": [
        "#Question 11. A company wants to test if a new website layout leads to a higher conversion rate (percentage of visitors who make a purchase). They collect data from the old and new layouts to compare.\n",
        "\n",
        "To generate the data use the following command:\n",
        "\n",
        "```python\n",
        "\n",
        "import numpy as np\n",
        "\n",
        "# 50 purchases out of 1000 visitors\n",
        "\n",
        "old_layout = np.array([1] * 50 + [0] * 950)\n",
        "\n",
        "# 70 purchases out of 1000 visitors  \n",
        "\n",
        "new_layout = np.array([1] * 70 + [0] * 930)\n",
        "\n",
        "  ```\n",
        "\n",
        "Apply z-test to find which layout is successful.\n",
        "\n",
        "#Answer:\n",
        "\n",
        "\n"
      ],
      "metadata": {
        "id": "AxUCj0DfPsSa"
      }
    },
    {
      "cell_type": "code",
      "source": [
        "#Step 1: Generate the Data\n",
        "\n",
        "import numpy as np\n",
        "\n",
        "# Data for old layout: 50 purchases out of 1000 visitors\n",
        "old_layout = np.array([1] * 50 + [0] * 950)\n",
        "\n",
        "# Data for new layout: 70 purchases out of 1000 visitors\n",
        "new_layout = np.array([1] * 70 + [0] * 930)\n"
      ],
      "metadata": {
        "id": "JraoiTcfQAjM"
      },
      "execution_count": 1,
      "outputs": []
    },
    {
      "cell_type": "code",
      "source": [
        "#Step 2: Perform the Z-Test\n",
        "#We'll calculate the z-score and p-value to compare the conversion rates of the old and new layouts.\n",
        "\n",
        "import scipy.stats as stats\n",
        "\n",
        "# Calculate success rates\n",
        "success_old = np.sum(old_layout)\n",
        "success_new = np.sum(new_layout)\n",
        "\n",
        "# Calculate the total number of visitors\n",
        "n_old = len(old_layout)\n",
        "n_new = len(new_layout)\n",
        "\n",
        "# Proportions of successes\n",
        "p_old = success_old / n_old\n",
        "p_new = success_new / n_new\n",
        "\n",
        "# Pooled proportion\n",
        "p_pooled = (success_old + success_new) / (n_old + n_new)\n",
        "\n",
        "# Standard error calculation\n",
        "standard_error = np.sqrt(p_pooled * (1 - p_pooled) * (1/n_old + 1/n_new))\n",
        "\n",
        "# Calculate z-score\n",
        "z_score = (p_new - p_old) / standard_error\n",
        "\n",
        "# Calculate p-value\n",
        "p_value = 2 * (1 - stats.norm.cdf(abs(z_score)))\n",
        "\n",
        "print(f\"Z-Score: {z_score}\")\n",
        "print(f\"P-Value: {p_value}\")\n"
      ],
      "metadata": {
        "colab": {
          "base_uri": "https://localhost:8080/"
        },
        "id": "ZrmEITiAQGfx",
        "outputId": "6db50542-f541-40bf-821c-06299cb0c8f4"
      },
      "execution_count": 2,
      "outputs": [
        {
          "output_type": "stream",
          "name": "stdout",
          "text": [
            "Z-Score: 1.883108942886774\n",
            "P-Value: 0.05968560553242619\n"
          ]
        }
      ]
    },
    {
      "cell_type": "markdown",
      "source": [
        "**Interpretation:**\n",
        "\n",
        "**Z-Score**: The z-score indicates how many standard deviations the observed difference in conversion rates is from the expected difference under the null hypothesis.\n",
        "\n",
        "**P-Value:** The p-value helps determine the probability of observing a difference as extreme as the one observed if the null hypothesis is true.\n",
        "\n",
        "If the p-value is less than the typical significance level (e.g., 0.05), we reject the null hypothesis, suggesting there is a statistically significant difference between the conversion rates of the old and new layouts."
      ],
      "metadata": {
        "id": "7nXT4zAhQbAc"
      }
    },
    {
      "cell_type": "markdown",
      "source": [
        "#Question 12. A tutoring service claims that its program improves students' exam scores. A sample of students who participated in the program was taken, and their scores before and after the program were recorded.\n",
        "\n",
        "Use the below code to generate samples of respective arrays of marks:\n",
        "\n",
        "```python\n",
        "\n",
        "before_program = np.array([75, 80, 85, 70, 90, 78, 92, 88, 82, 87])\n",
        "\n",
        "after_program = np.array([80, 85, 90, 80, 92, 80, 95, 90, 85, 88])\n",
        "\n",
        "```\n",
        "\n",
        "Use z-test to find if the claims made by tutor are true or false.\n",
        "\n",
        "#Answer:\n",
        "\n"
      ],
      "metadata": {
        "id": "hdEbHkyLQ3nt"
      }
    },
    {
      "cell_type": "code",
      "source": [
        "# Step 1: Generate the Data\n",
        "\n",
        "import numpy as np\n",
        "\n",
        "# Scores before and after the program\n",
        "before_program = np.array([75, 80, 85, 70, 90, 78, 92, 88, 82, 87])\n",
        "after_program = np.array([80, 85, 90, 80, 92, 80, 95, 90, 85, 88])\n"
      ],
      "metadata": {
        "id": "gLfab_1hREyY"
      },
      "execution_count": 3,
      "outputs": []
    },
    {
      "cell_type": "markdown",
      "source": [
        "**Step 2: Conduct the Z-Test:**\n",
        "\n",
        "We will compute the z-score and p-value to compare the students' scores before and after the tutoring program.\n",
        "\n",
        "**Z-Test Formula:**\n",
        "\n",
        "\\[ z = \\frac{(\\bar{X}{\\text{after}} - \\bar{X}{\\text{before}})}{\\sqrt{\\frac{\\sigma_{\\text{before}}^2}{n} + \\frac{\\sigma_{\\text{after}}^2}{n}}} \\]\n",
        "\n",
        "Where:\n",
        "\n",
        "𝑋\n",
        "ˉ\n",
        "after\n",
        " is the mean score after the program\n",
        "\n",
        "𝑋\n",
        "ˉ\n",
        "before\n",
        " is the mean score before the program\n",
        "\n",
        "𝜎\n",
        "before\n",
        " is the standard deviation of scores before the program\n",
        "\n",
        "𝜎\n",
        "after\n",
        " is the standard deviation of scores after the program\n",
        "\n",
        "𝑛\n",
        " is the number of students"
      ],
      "metadata": {
        "id": "1AuxaeJWRPNL"
      }
    },
    {
      "cell_type": "code",
      "source": [
        "import scipy.stats as stats\n",
        "\n",
        "# Compute means\n",
        "mean_before = np.mean(before_program)\n",
        "mean_after = np.mean(after_program)\n",
        "\n",
        "# Compute standard deviations\n",
        "std_before = np.std(before_program, ddof=1)\n",
        "std_after = np.std(after_program, ddof=1)\n",
        "\n",
        "# Number of students\n",
        "n = len(before_program)\n",
        "\n",
        "# Standard error\n",
        "se = np.sqrt((std_before ** 2 / n) + (std_after ** 2 / n))\n",
        "\n",
        "# Z-score calculation\n",
        "z_score = (mean_after - mean_before) / se\n",
        "\n",
        "# P-value calculation\n",
        "p_value = 2 * (1 - stats.norm.cdf(abs(z_score)))\n",
        "\n",
        "print(f\"Z-Score: {z_score}\")\n",
        "print(f\"P-Value: {p_value}\")\n"
      ],
      "metadata": {
        "colab": {
          "base_uri": "https://localhost:8080/"
        },
        "id": "VOkuaWCwRZBc",
        "outputId": "abfb9199-3528-467e-ce19-660398e0a71e"
      },
      "execution_count": 4,
      "outputs": [
        {
          "output_type": "stream",
          "name": "stdout",
          "text": [
            "Z-Score: 1.3600371723457603\n",
            "P-Value: 0.17381816101827674\n"
          ]
        }
      ]
    },
    {
      "cell_type": "markdown",
      "source": [
        "**Interpretation :**\n",
        "\n",
        "**Z-Score:** This value indicates how many standard deviations the observed difference in means is from the expected difference under the null hypothesis.\n",
        "\n",
        "**P-Value:** This tells us the probability of observing a difference as extreme as the one observed if the null hypothesis is true.\n",
        "\n",
        "If the p-value is less than a commonly used significance level (e.g., 0.05), we reject the null hypothesis and conclude that the tutoring program has had a statistically significant impact on improving students' exam scores."
      ],
      "metadata": {
        "id": "cn8KeVtkRjxb"
      }
    },
    {
      "cell_type": "markdown",
      "source": [
        "#Question 13. A pharmaceutical company wants to determine if a new drug is effective in reducing blood pressure. They conduct a study and record blood pressure measurements before and after administering the drug.\n",
        "\n",
        "Use the below code to generate samples of respective arrays of blood pressure:\n",
        "\n",
        "\n",
        "```python\n",
        "\n",
        "before_drug = np.array([145, 150, 140, 135, 155, 160, 152, 148, 130, 138])\n",
        "\n",
        "after_drug = np.array([130, 140, 132, 128, 145, 148, 138, 136, 125, 130])\n",
        "\n",
        "  ```\n",
        "\n",
        "\n",
        "Implement z-test to find if the drug really works or not.\n",
        "\n",
        "#Answer:\n",
        "\n",
        "To determine if the new drug is effective in reducing blood pressure, we'll use the provided blood pressure measurements and perform a z-test."
      ],
      "metadata": {
        "id": "w_Gn4wdpSWEj"
      }
    },
    {
      "cell_type": "code",
      "source": [
        "#Step 1: Generate the Data\n",
        "\n",
        "import numpy as np\n",
        "\n",
        "# Blood pressure measurements before and after administering the drug\n",
        "before_drug = np.array([145, 150, 140, 135, 155, 160, 152, 148, 130, 138])\n",
        "after_drug = np.array([130, 140, 132, 128, 145, 148, 138, 136, 125, 130])\n"
      ],
      "metadata": {
        "id": "chzrYxkjSps0"
      },
      "execution_count": 5,
      "outputs": []
    },
    {
      "cell_type": "markdown",
      "source": [
        "**Step 2: Conduct the Z-Test**\n",
        "\n",
        "We will compute the z-score and p-value to compare the blood pressure measurements before and after the drug administration.\n",
        "\n",
        "**Z-Test Formula:**\n",
        "\n",
        "\\[ z = \\frac{\\bar{X}{\\text{after}} - \\bar{X}{\\text{before}}}{\\sqrt{\\frac{\\sigma_{\\text{before}}^2}{n} + \\frac{\\sigma_{\\text{after}}^2}{n}}} \\]\n",
        "\n",
        "Where:\n",
        "\n",
        "𝑋\n",
        "ˉ\n",
        "after\n",
        " is the mean blood pressure after the drug\n",
        "\n",
        "𝑋\n",
        "ˉ\n",
        "before\n",
        " is the mean blood pressure before the drug\n",
        "\n",
        "𝜎\n",
        "before\n",
        " is the standard deviation of blood pressure before the drug\n",
        "\n",
        "𝜎\n",
        "after\n",
        " is the standard deviation of blood pressure after the drug\n",
        "\n",
        "𝑛\n",
        " is the number of patients\n",
        "\n",
        " #Answer:\n",
        ""
      ],
      "metadata": {
        "id": "g6YPwfLDSyrS"
      }
    },
    {
      "cell_type": "code",
      "source": [
        "import scipy.stats as stats\n",
        "\n",
        "# Calculate means\n",
        "mean_before = np.mean(before_drug)\n",
        "mean_after = np.mean(after_drug)\n",
        "\n",
        "# Calculate standard deviations\n",
        "std_before = np.std(before_drug, ddof=1)\n",
        "std_after = np.std(after_drug, ddof=1)\n",
        "\n",
        "# Number of patients\n",
        "n = len(before_drug)\n",
        "\n",
        "# Standard error calculation\n",
        "se = np.sqrt((std_before ** 2 / n) + (std_after ** 2 / n))\n",
        "\n",
        "# Z-score calculation\n",
        "z_score = (mean_after - mean_before) / se\n",
        "\n",
        "# P-value calculation\n",
        "p_value = 2 * (1 - stats.norm.cdf(abs(z_score)))\n",
        "\n",
        "print(f\"Z-Score: {z_score}\")\n",
        "print(f\"P-Value: {p_value}\")\n"
      ],
      "metadata": {
        "colab": {
          "base_uri": "https://localhost:8080/"
        },
        "id": "j9EtnvLIS9Gq",
        "outputId": "fbaf886b-aebe-4257-beb9-e8d45b3b3c93"
      },
      "execution_count": 6,
      "outputs": [
        {
          "output_type": "stream",
          "name": "stdout",
          "text": [
            "Z-Score: -2.639577121919448\n",
            "P-Value: 0.008300953387191612\n"
          ]
        }
      ]
    },
    {
      "cell_type": "markdown",
      "source": [
        "**Interpretation:**\n",
        "\n",
        "**Z-Score:** This value indicates how many standard deviations the observed difference in means is from the expected difference under the null hypothesis.\n",
        "\n",
        "**P-Value:** This value helps us determine the probability of observing a difference as extreme as the one observed if the null hypothesis is true.\n",
        "\n",
        "If the p-value is less than a commonly used significance level (e.g., 0.05), we reject the null hypothesis and conclude that the drug has had a statistically significant impact on reducing blood pressure.\n"
      ],
      "metadata": {
        "id": "1FCjRpE2TBK7"
      }
    },
    {
      "cell_type": "markdown",
      "source": [
        "#Question 14. A customer service department claims that their average response time is less than 5 minutes. A sample of recent customer interactions was taken, and the response times were recorded.\n",
        "\n",
        "Implement the below code to generate the array of response time:\n",
        "\n",
        "```python\n",
        "\n",
        "response_times = np.array([4.3, 3.8, 5.1, 4.9, 4.7, 4.2, 5.2, 4.5, 4.6, 4.4])\n",
        "\n",
        "```\n",
        "\n",
        "Implement z-test to find the claims made by customer service department are true or false.\n",
        "\n",
        "#Answer:\n",
        "\n",
        "To verify the customer service department's claim that the average response time is less than 5 minutes, we'll use a one-sample z-test."
      ],
      "metadata": {
        "id": "dQCpkOVgT9D5"
      }
    },
    {
      "cell_type": "code",
      "source": [
        "#Step 1: Generate the Data\n",
        "\n",
        "import numpy as np\n",
        "\n",
        "# Array of response times\n",
        "response_times = np.array([4.3, 3.8, 5.1, 4.9, 4.7, 4.2, 5.2, 4.5, 4.6, 4.4])\n"
      ],
      "metadata": {
        "id": "TxnZ02toUJbC"
      },
      "execution_count": 7,
      "outputs": []
    },
    {
      "cell_type": "markdown",
      "source": [
        "**Step 2: Perform the Z-Test**\n",
        "\n",
        "We will calculate the z-score and p-value to test if the average response time is significantly less than 5 minutes.\n",
        "\n",
        "\n",
        "Z-Test Formula:\n",
        "𝑧\n",
        "=\n",
        "𝑋\n",
        "ˉ\n",
        "−\n",
        "𝜇\n",
        "𝜎\n",
        "/\n",
        "𝑛\n",
        "\n",
        "Where:\n",
        "\n",
        "𝑋\n",
        "ˉ\n",
        " is the sample mean\n",
        "\n",
        "𝜇\n",
        " is the population mean (5 minutes in this case)\n",
        "\n",
        "𝜎\n",
        " is the sample standard deviation\n",
        "\n",
        "𝑛\n",
        " is the sample size\n",
        "\n",
        "\n",
        "#Answer:\n"
      ],
      "metadata": {
        "id": "AAdVsM5oUV4a"
      }
    },
    {
      "cell_type": "code",
      "source": [
        "import scipy.stats as stats\n",
        "\n",
        "# Hypothesized population mean\n",
        "mu = 5\n",
        "\n",
        "# Calculate sample mean and standard deviation\n",
        "sample_mean = np.mean(response_times)\n",
        "sample_std = np.std(response_times, ddof=1)\n",
        "\n",
        "# Sample size\n",
        "n = len(response_times)\n",
        "\n",
        "# Calculate standard error\n",
        "se = sample_std / np.sqrt(n)\n",
        "\n",
        "# Calculate z-score\n",
        "z_score = (sample_mean - mu) / se\n",
        "\n",
        "# Calculate p-value\n",
        "p_value = stats.norm.cdf(z_score)\n",
        "\n",
        "print(f\"Z-Score: {z_score}\")\n",
        "print(f\"P-Value: {p_value}\")\n"
      ],
      "metadata": {
        "colab": {
          "base_uri": "https://localhost:8080/"
        },
        "id": "6eVmCfKKUd8S",
        "outputId": "129f3972-fc36-4c6b-b8f2-e11507c2d5db"
      },
      "execution_count": 8,
      "outputs": [
        {
          "output_type": "stream",
          "name": "stdout",
          "text": [
            "Z-Score: -3.184457226042963\n",
            "P-Value: 0.0007251287113068958\n"
          ]
        }
      ]
    },
    {
      "cell_type": "code",
      "source": [],
      "metadata": {
        "id": "RPSlWS2JUgi3"
      },
      "execution_count": null,
      "outputs": []
    },
    {
      "cell_type": "markdown",
      "source": [
        "**Interpretation:**\n",
        "\n",
        "**Z-Score:** This indicates how many standard deviations the sample mean is from the population mean.\n",
        "\n",
        "**P-Value:** This value helps us determine the probability of observing a sample mean as extreme as, or more extreme than, the one observed if the null hypothesis is true.\n",
        "\n",
        "If the p-value is less than a common significance level (e.g., 0.05), we reject the null hypothesis and conclude that the average response time is significantly less than 5 minutes."
      ],
      "metadata": {
        "id": "rzJ4pnPmUiMD"
      }
    },
    {
      "cell_type": "markdown",
      "source": [
        "#Question 15. A company is testing two different website layouts to see which one leads to higher click-through rates.Write a Python function to perform an A/B test analysis, including calculating the t-statistic, degrees of freedom, and p-value.\n",
        "\n",
        "\n",
        "Use the following data:\n",
        "\n",
        "```python\n",
        "\n",
        "layout_a_clicks = [28, 32, 33, 29, 31, 34, 30, 35, 36, 37]\n",
        "\n",
        "layout_b_clicks = [40, 41, 38, 42, 39, 44, 43, 41, 45, 47]\n",
        "\n",
        "\n",
        "#Answer:"
      ],
      "metadata": {
        "id": "kC5Umt-JVM8B"
      }
    },
    {
      "cell_type": "markdown",
      "source": [
        "**Step-by-Step Implementation:**\n",
        "\n",
        "Calculate the mean and standard deviation for both layouts.\n",
        "\n",
        "**Calculate the t-statistic using the formula:**\n",
        "\n",
        "𝑡\n",
        "=\n",
        "𝑋\n",
        "ˉ\n",
        "𝐴\n",
        "−\n",
        "𝑋\n",
        "ˉ\n",
        "𝐵\n",
        "𝑠\n",
        "𝐴\n",
        "2\n",
        "𝑛\n",
        "𝐴\n",
        "+\n",
        "𝑠\n",
        "𝐵\n",
        "2\n",
        "𝑛\n",
        "𝐵\n",
        "where\n",
        "𝑋\n",
        "ˉ\n",
        "𝐴\n",
        " and\n",
        "𝑋\n",
        "ˉ\n",
        "𝐵\n",
        " are the sample means,\n",
        "𝑠\n",
        "𝐴\n",
        " and\n",
        "𝑠\n",
        "𝐵\n",
        " are the sample standard deviations, and\n",
        "𝑛\n",
        "𝐴\n",
        " and\n",
        "𝑛\n",
        "𝐵\n",
        " are the sample sizes.\n",
        "\n",
        "**Calculate the degrees of freedom using the formula:**\n",
        "\n",
        "\\[ df = \\left(\\frac{s_A^2}{n_A} + \\frac{s_B2}{n_B}\\right)2 \\div \\left(\\frac{\\left(s_A^2 / n_A\\right)^2}{n_A - 1} + \\frac{\\left(s_B^2 / n_B\\right)^2}{n_B - 1}\\right) \\]\n",
        "\n",
        "Calculate the p-value using the cumulative distribution function (CDF) of the t-distribution.\n",
        "\n",
        "\n",
        "#Answer:"
      ],
      "metadata": {
        "id": "B4V9GMDbVo-r"
      }
    },
    {
      "cell_type": "code",
      "source": [
        "import numpy as np\n",
        "from scipy import stats\n",
        "\n",
        "def ab_test_analysis(layout_a_clicks, layout_b_clicks):\n",
        "    # Compute means\n",
        "    mean_a = np.mean(layout_a_clicks)\n",
        "    mean_b = np.mean(layout_b_clicks)\n",
        "\n",
        "    # Compute standard deviations\n",
        "    std_a = np.std(layout_a_clicks, ddof=1)\n",
        "    std_b = np.std(layout_b_clicks, ddof=1)\n",
        "\n",
        "    # Sample sizes\n",
        "    n_a = len(layout_a_clicks)\n",
        "    n_b = len(layout_b_clicks)\n",
        "\n",
        "    # Calculate t-statistic\n",
        "    t_stat = (mean_a - mean_b) / np.sqrt((std_a ** 2 / n_a) + (std_b ** 2 / n_b))\n",
        "\n",
        "    # Calculate degrees of freedom\n",
        "    df = ((std_a ** 2 / n_a) + (std_b ** 2 / n_b)) ** 2 / ((std_a ** 2 / n_a) ** 2 / (n_a - 1) + (std_b ** 2 / n_b) ** 2 / (n_b - 1))\n",
        "\n",
        "    # Calculate p-value\n",
        "    if t_stat < 0:\n",
        "        p_value = stats.t.cdf(t_stat, df=df)\n",
        "    else:\n",
        "        p_value = 1 - stats.t.cdf(t_stat, df=df)\n",
        "\n",
        "    return t_stat, df, p_value\n",
        "\n",
        "# Given data\n",
        "layout_a_clicks = [28, 32, 33, 29, 31, 34, 30, 35, 36, 37]\n",
        "layout_b_clicks = [40, 41, 38, 42, 39, 44, 43, 41, 45, 47]\n",
        "\n",
        "# Perform A/B test analysis\n",
        "t_statistic, degrees_of_freedom, p_value = ab_test_analysis(layout_a_clicks, layout_b_clicks)\n",
        "\n",
        "print(f\"T-Statistic: {t_statistic}\")\n",
        "print(f\"Degrees of Freedom: {degrees_of_freedom}\")\n",
        "print(f\"P-Value: {p_value}\")\n"
      ],
      "metadata": {
        "colab": {
          "base_uri": "https://localhost:8080/"
        },
        "id": "kiab_aKJWCIx",
        "outputId": "204518a8-b2a4-4044-e948-2431baa44e09"
      },
      "execution_count": 9,
      "outputs": [
        {
          "output_type": "stream",
          "name": "stdout",
          "text": [
            "T-Statistic: -7.298102156175071\n",
            "Degrees of Freedom: 17.879871863320876\n",
            "P-Value: 4.5982980353946785e-07\n"
          ]
        }
      ]
    },
    {
      "cell_type": "markdown",
      "source": [
        "**Interpretation:**\n",
        "\n",
        "**T-Statistic:** This indicates the number of standard errors the difference in means is away from zero.\n",
        "\n",
        "**Degrees of Freedom:** This value is used to determine the shape of the t-distribution for the test.\n",
        "\n",
        "**P-Value:** This value helps us determine the probability of observing a test statistic as extreme as, or more extreme than, the one observed if the null hypothesis is true.\n",
        "\n",
        "If the p-value is less than a commonly used significance level (e.g., 0.05), we reject the null hypothesis and conclude that there is a statistically significant difference between the two layouts.\n",
        "\n"
      ],
      "metadata": {
        "id": "zJDMMEc2WD2C"
      }
    },
    {
      "cell_type": "markdown",
      "source": [
        "#Question 16. A pharmaceutical company wants to determine if a new drug is more effective than an existing drug in reducing cholesterol levels. Create a program to analyze the clinical trial data and calculate the tstatistic and p-value for the treatment effect.\n",
        "\n",
        "Use the following data of cholestrol level:\n",
        "\n",
        "```python\n",
        "\n",
        "existing_drug_levels = [180, 182, 175, 185, 178, 176, 172, 184, 179, 183]\n",
        "\n",
        "new_drug_levels = [170, 172, 165, 168, 175, 173, 170, 178, 172, 176]\n",
        "\n",
        "```\n",
        "\n",
        "#Answer:\n",
        "\n",
        "**Step-by-Step Implementation:**\n",
        "\n",
        "Calculate the mean and standard deviation for both drug groups.\n",
        "\n",
        "**Calculate the t-statistic using the formula:**\n",
        "\n",
        "𝑡\n",
        "=\n",
        "𝑋\n",
        "ˉ\n",
        "1\n",
        "−\n",
        "𝑋\n",
        "ˉ\n",
        "2\n",
        "𝑠\n",
        "1\n",
        "2\n",
        "𝑛\n",
        "1\n",
        "+\n",
        "𝑠\n",
        "2\n",
        "2\n",
        "𝑛\n",
        "2\n",
        "where\n",
        "𝑋\n",
        "ˉ\n",
        "1\n",
        " and\n",
        "𝑋\n",
        "ˉ\n",
        "2\n",
        " are the sample means,\n",
        "𝑠\n",
        "1\n",
        " and\n",
        "𝑠\n",
        "2\n",
        " are the sample standard deviations, and\n",
        "𝑛\n",
        "1\n",
        " and\n",
        "𝑛\n",
        "2\n",
        " are the sample sizes.\n",
        "\n",
        "Calculate the p-value using the t-distribution.\n",
        "\n",
        "**Program Implementation:**"
      ],
      "metadata": {
        "id": "xkD2lqgqXBXJ"
      }
    },
    {
      "cell_type": "code",
      "source": [
        "import numpy as np\n",
        "from scipy import stats\n",
        "\n",
        "def compare_cholesterol_levels(existing_levels, new_levels):\n",
        "    # Compute the mean values\n",
        "    mean_existing = np.mean(existing_levels)\n",
        "    mean_new = np.mean(new_levels)\n",
        "\n",
        "    # Compute standard deviations\n",
        "    std_existing = np.std(existing_levels, ddof=1)\n",
        "    std_new = np.std(new_levels, ddof=1)\n",
        "\n",
        "    # Sample sizes\n",
        "    n_existing = len(existing_levels)\n",
        "    n_new = len(new_levels)\n",
        "\n",
        "    # Compute the t-statistic\n",
        "    t_stat = (mean_existing - mean_new) / np.sqrt((std_existing ** 2 / n_existing) + (std_new ** 2 / n_new))\n",
        "\n",
        "    # Compute degrees of freedom\n",
        "    df = ((std_existing ** 2 / n_existing) + (std_new ** 2 / n_new)) ** 2 / ((std_existing ** 2 / n_existing) ** 2 / (n_existing - 1) + (std_new ** 2 / n_new) ** 2 / (n_new - 1))\n",
        "\n",
        "    # Compute the p-value\n",
        "    p_value = 2 * (1 - stats.t.cdf(abs(t_stat), df=df))\n",
        "\n",
        "    return t_stat, df, p_value\n",
        "\n",
        "# Given data\n",
        "existing_drug_levels = [180, 182, 175, 185, 178, 176, 172, 184, 179, 183]\n",
        "new_drug_levels = [170, 172, 165, 168, 175, 173, 170, 178, 172, 176]\n",
        "\n",
        "# Perform the analysis\n",
        "t_statistic, degrees_of_freedom, p_value = compare_cholesterol_levels(existing_drug_levels, new_drug_levels)\n",
        "\n",
        "print(f\"T-Statistic: {t_statistic}\")\n",
        "print(f\"Degrees of Freedom: {degrees_of_freedom}\")\n",
        "print(f\"P-Value: {p_value}\")\n"
      ],
      "metadata": {
        "colab": {
          "base_uri": "https://localhost:8080/"
        },
        "id": "g5GA5T9cXXRB",
        "outputId": "fedcd71e-4d22-46aa-c137-869f5e5bd1ca"
      },
      "execution_count": 10,
      "outputs": [
        {
          "output_type": "stream",
          "name": "stdout",
          "text": [
            "T-Statistic: 4.140480986208661\n",
            "Degrees of Freedom: 17.866770765582338\n",
            "P-Value: 0.0006229228945469067\n"
          ]
        }
      ]
    },
    {
      "cell_type": "code",
      "source": [],
      "metadata": {
        "id": "rBj5Va2LXZ9B"
      },
      "execution_count": null,
      "outputs": []
    },
    {
      "cell_type": "markdown",
      "source": [
        "**Interpretation:**\n",
        "\n",
        "**T-Statistic:** This value indicates how many standard errors the difference in means is from zero.\n",
        "\n",
        "**Degrees of Freedom:** This value is used to determine the shape of the t-distribution.\n",
        "\n",
        "**P-Value:** This value helps determine the probability of observing a test statistic as extreme as, or more extreme than, the one observed if the null hypothesis is true.\n",
        "\n",
        "If the p-value is less than a commonly used significance level (e.g., 0.05), we reject the null hypothesis and conclude that the new drug is more effective in reducing cholesterol levels compared to the existing drug."
      ],
      "metadata": {
        "id": "jqE0N-e0Xc2M"
      }
    },
    {
      "cell_type": "markdown",
      "source": [
        "#Question 17. A school district introduces an educational intervention program to improve math scores. Write a Python function to analyze pre- and post-intervention test scores, calculating the t-statistic and p-value to determine if the intervention had a significant impact.\n",
        "\n",
        "Use the following data of test score:\n",
        "\n",
        "  ```python\n",
        "\n",
        "  pre_intervention_scores = [80, 85, 90, 75, 88, 82, 92, 78, 85, 87]\n",
        "\n",
        "  post_intervention_scores = [90, 92, 88, 92, 95, 91, 96, 93, 89, 93]\n",
        "\n",
        "  ```\n",
        "\n",
        "#Answer:\n",
        "\n",
        "**Step-by-Step Implementation:**\n",
        "\n",
        "Calculate the differences between pre- and post-intervention scores.\n",
        "\n",
        "Compute the mean and standard deviation of these differences.\n",
        "\n",
        "Calculate the t-statistic using the formula for a paired t-test:\n",
        "\n",
        "𝑡\n",
        "=\n",
        "𝐷\n",
        "ˉ\n",
        "𝑠\n",
        "𝐷\n",
        "/\n",
        "𝑛\n",
        "where\n",
        "𝐷\n",
        "ˉ\n",
        " is the mean of the differences,\n",
        "𝑠\n",
        "𝐷\n",
        " is the standard deviation of the differences, and\n",
        "𝑛\n",
        " is the number of observations.\n",
        "\n",
        "Calculate the p-value using the t-distribution.\n",
        "\n",
        "**Program Implementation:**\n"
      ],
      "metadata": {
        "id": "Fh60DJFCX7sp"
      }
    },
    {
      "cell_type": "code",
      "source": [
        "import numpy as np\n",
        "from scipy import stats\n",
        "\n",
        "def assess_intervention(pre_scores, post_scores):\n",
        "    # Compute differences\n",
        "    differences = np.array(post_scores) - np.array(pre_scores)\n",
        "\n",
        "    # Calculate mean and standard deviation of differences\n",
        "    mean_diff = np.mean(differences)\n",
        "    std_diff = np.std(differences, ddof=1)\n",
        "\n",
        "    # Number of observations\n",
        "    n = len(differences)\n",
        "\n",
        "    # Compute t-statistic\n",
        "    t_statistic = mean_diff / (std_diff / np.sqrt(n))\n",
        "\n",
        "    # Calculate p-value for a two-tailed test\n",
        "    p_value = 2 * (1 - stats.t.cdf(abs(t_statistic), df=n-1))\n",
        "\n",
        "    return t_statistic, p_value\n",
        "\n",
        "# Given data\n",
        "pre_intervention_scores = [80, 85, 90, 75, 88, 82, 92, 78, 85, 87]\n",
        "post_intervention_scores = [90, 92, 88, 92, 95, 91, 96, 93, 89, 93]\n",
        "\n",
        "# Analyze the impact of the intervention\n",
        "t_stat, p_val = assess_intervention(pre_intervention_scores, post_intervention_scores)\n",
        "\n",
        "print(f\"T-Statistic: {t_stat}\")\n",
        "print(f\"P-Value: {p_val}\")\n"
      ],
      "metadata": {
        "colab": {
          "base_uri": "https://localhost:8080/"
        },
        "id": "P1j5rUa3YN76",
        "outputId": "b1114350-0d8b-4fbb-a946-f3747c54a8ae"
      },
      "execution_count": 11,
      "outputs": [
        {
          "output_type": "stream",
          "name": "stdout",
          "text": [
            "T-Statistic: 4.428408839657611\n",
            "P-Value: 0.0016509548165795085\n"
          ]
        }
      ]
    },
    {
      "cell_type": "markdown",
      "source": [
        "**Interpretation:**\n",
        "\n",
        "**T-Statistic:** This value indicates the number of standard deviations the observed difference in means is from zero.\n",
        "\n",
        "**P-Value:** This value helps us determine the probability of observing a difference as extreme as, or more extreme than, the one observed if the null hypothesis is true.\n",
        "\n",
        "If the p-value is less than a common significance level (e.g., 0.05), we reject the null hypothesis and conclude that the educational intervention had a significant impact on math scores."
      ],
      "metadata": {
        "id": "3tbc4OKvYTw4"
      }
    },
    {
      "cell_type": "markdown",
      "source": [
        "#Question 18. An HR department wants to investigate if there's a gender-based salary gap within the company. Develop a program to analyze salary data, calculate the t-statistic, and determine if there's a statistically significant difference between the average salaries of male and female employees.\n",
        "\n",
        "Use the below code to generate synthetic data:\n",
        "\n",
        "```python\n",
        "\n",
        "# Generate synthetic salary data for male and female employees\n",
        "\n",
        "np.random.seed(0)  # For reproducibility\n",
        "\n",
        "male_salaries = np.random.normal(loc=50000, scale=10000, size=20)\n",
        "\n",
        "female_salaries = np.random.normal(loc=55000, scale=9000, size=20)\n",
        "\n",
        "#Answer:\n",
        "\n",
        "Let's create a Python program to analyze the salary data,calculate the t-statistic, and determine if there's a statistically significant difference between the average salaries of male and female employees."
      ],
      "metadata": {
        "id": "V5cJKlNZYy1q"
      }
    },
    {
      "cell_type": "code",
      "source": [
        "#Step 1: Generate the Data\n",
        "\n",
        "import numpy as np\n",
        "\n",
        "# Generate synthetic salary data for male and female employees\n",
        "np.random.seed(0)  # For reproducibility\n",
        "\n",
        "male_salaries = np.random.normal(loc=50000, scale=10000, size=20)\n",
        "female_salaries = np.random.normal(loc=55000, scale=9000, size=20)\n"
      ],
      "metadata": {
        "id": "RVBIs3KjZSbp"
      },
      "execution_count": 12,
      "outputs": []
    },
    {
      "cell_type": "markdown",
      "source": [
        "**Step 2: Perform the T-Test :**\n",
        "\n",
        "We will calculate the t-statistic and p-value to compare the two groups.\n",
        "\n",
        "**T-Test Formula:**\n",
        "\n",
        "𝑡\n",
        "=\n",
        "𝑋\n",
        "ˉ\n",
        "1\n",
        "−\n",
        "𝑋\n",
        "ˉ\n",
        "2\n",
        "𝑠\n",
        "1\n",
        "2\n",
        "𝑛\n",
        "1\n",
        "+\n",
        "𝑠\n",
        "2\n",
        "2\n",
        "𝑛\n",
        "2\n",
        "Where:\n",
        "\n",
        "𝑋\n",
        "ˉ\n",
        "1\n",
        " and\n",
        "𝑋\n",
        "ˉ\n",
        "2\n",
        " are the sample means\n",
        "\n",
        "𝑠\n",
        "1\n",
        " and\n",
        "𝑠\n",
        "2\n",
        " are the sample standard deviations\n",
        "\n",
        "𝑛\n",
        "1\n",
        " and\n",
        "𝑛\n",
        "2\n",
        " are the sample sizes\n",
        "\n",
        "**Program Implementation:**"
      ],
      "metadata": {
        "id": "up54POd3ZZPI"
      }
    },
    {
      "cell_type": "code",
      "source": [
        "from scipy import stats\n",
        "\n",
        "def analyze_salary_gap(male_salaries, female_salaries):\n",
        "    # Calculate means\n",
        "    mean_male = np.mean(male_salaries)\n",
        "    mean_female = np.mean(female_salaries)\n",
        "\n",
        "    # Calculate standard deviations\n",
        "    std_male = np.std(male_salaries, ddof=1)\n",
        "    std_female = np.std(female_salaries, ddof=1)\n",
        "\n",
        "    # Sample sizes\n",
        "    n_male = len(male_salaries)\n",
        "    n_female = len(female_salaries)\n",
        "\n",
        "    # Calculate t-statistic\n",
        "    t_stat = (mean_male - mean_female) / np.sqrt((std_male ** 2 / n_male) + (std_female ** 2 / n_female))\n",
        "\n",
        "    # Calculate degrees of freedom\n",
        "    df = ((std_male ** 2 / n_male) + (std_female ** 2 / n_female)) ** 2 / ((std_male ** 2 / n_male) ** 2 / (n_male - 1) + (std_female ** 2 / n_female) ** 2 / (n_female - 1))\n",
        "\n",
        "    # Calculate p-value\n",
        "    p_value = 2 * (1 - stats.t.cdf(abs(t_stat), df=df))\n",
        "\n",
        "    return t_stat, df, p_value\n",
        "\n",
        "# Analyze salary gap\n",
        "t_statistic, degrees_of_freedom, p_value = analyze_salary_gap(male_salaries, female_salaries)\n",
        "\n",
        "print(f\"T-Statistic: {t_statistic}\")\n",
        "print(f\"Degrees of Freedom: {degrees_of_freedom}\")\n",
        "print(f\"P-Value: {p_value}\")\n"
      ],
      "metadata": {
        "colab": {
          "base_uri": "https://localhost:8080/"
        },
        "id": "SunEEgv0Zj7B",
        "outputId": "779045e5-e0a6-4ae4-9e59-c9e74eca6abe"
      },
      "execution_count": 13,
      "outputs": [
        {
          "output_type": "stream",
          "name": "stdout",
          "text": [
            "T-Statistic: 0.061142089696313844\n",
            "Degrees of Freedom: 36.166783312917644\n",
            "P-Value: 0.9515826849267925\n"
          ]
        }
      ]
    },
    {
      "cell_type": "markdown",
      "source": [
        "**Interpretation:**\n",
        "\n",
        "**T-Statistic:** This value indicates the number of standard errors the difference in means is from zero.\n",
        "\n",
        "**Degrees of Freedom:** This value is used to determine the shape of the t-distribution.\n",
        "\n",
        "**P-Value:** This value helps us determine the probability of observing a difference as extreme as, or more extreme than, the one observed if the null hypothesis is true.\n",
        "\n",
        "If the p-value is less than a commonly used significance level (e.g., 0.05), we reject the null hypothesis and conclude that there is a statistically significant difference between the average salaries of male and female employees."
      ],
      "metadata": {
        "id": "a71rtGjjZm3g"
      }
    },
    {
      "cell_type": "markdown",
      "source": [
        "#Question 19. A manufacturer produces two different versions of a product and wants to compare their quality scores.Create a Python function to analyze quality assessment data, calculate the t-statistic, and decide whether there's a significant difference in quality between the two versions.\n",
        "\n",
        "\n",
        "Use the following data:\n",
        "\n",
        "\n",
        "```python\n",
        "\n",
        "version1_scores = [85, 88, 82, 89, 87, 84, 90, 88, 85, 86, 91, 83, 87, 84, 89, 86, 84, 88, 85, 86, 89, 90, 87, 88, 85]\n",
        "\n",
        "version2_scores = [80, 78, 83, 81, 79, 82, 76, 80, 78, 81, 77, 82, 80, 79, 82, 79, 80, 81, 79, 82, 79, 78, 80, 81, 82]\n",
        "\n",
        "```\n",
        "\n",
        "#Answer:\n",
        "\n",
        "Let's create a Python function to analyze the quality assessment data, calculate the t-statistic, and determine if there's a significant difference in quality between the two versions.\n",
        "\n",
        "**Step-by-Step Implementation:**\n",
        "\n",
        "**1.Compute the mean and standard deviation for both sets of scores.**\n",
        "\n",
        "**2.Calculate the t-statistic using the formula:**\n",
        "\n",
        "𝑡\n",
        "=\n",
        "𝑋\n",
        "ˉ\n",
        "1\n",
        "−\n",
        "𝑋\n",
        "ˉ\n",
        "2\n",
        "𝑠\n",
        "1\n",
        "2\n",
        "𝑛\n",
        "1\n",
        "+\n",
        "𝑠\n",
        "2\n",
        "2\n",
        "𝑛\n",
        "2\n",
        "\n",
        "where\n",
        "𝑋\n",
        "ˉ\n",
        "1\n",
        " and\n",
        "𝑋\n",
        "ˉ\n",
        "2\n",
        " are the sample means,\n",
        "𝑠\n",
        "1\n",
        " and\n",
        "𝑠\n",
        "2\n",
        " are the sample standard deviations, and\n",
        "𝑛\n",
        "1\n",
        " and\n",
        "𝑛\n",
        "2\n",
        " are the sample sizes.\n",
        "\n",
        "**3.Calculate the p-value using the t-distribution.**\n",
        "\n",
        "**Program Implementation:**\n",
        "\n"
      ],
      "metadata": {
        "id": "7Ws3yI4se1e4"
      }
    },
    {
      "cell_type": "code",
      "source": [
        "import numpy as np\n",
        "from scipy import stats\n",
        "\n",
        "def quality_comparison(version1_scores, version2_scores):\n",
        "    # Compute means\n",
        "    mean_v1 = np.mean(version1_scores)\n",
        "    mean_v2 = np.mean(version2_scores)\n",
        "\n",
        "    # Compute standard deviations\n",
        "    std_v1 = np.std(version1_scores, ddof=1)\n",
        "    std_v2 = np.std(version2_scores, ddof=1)\n",
        "\n",
        "    # Sample sizes\n",
        "    n_v1 = len(version1_scores)\n",
        "    n_v2 = len(version2_scores)\n",
        "\n",
        "    # Calculate t-statistic\n",
        "    t_stat = (mean_v1 - mean_v2) / np.sqrt((std_v1 ** 2 / n_v1) + (std_v2 ** 2 / n_v2))\n",
        "\n",
        "    # Calculate degrees of freedom\n",
        "    df = ((std_v1 ** 2 / n_v1) + (std_v2 ** 2 / n_v2)) ** 2 / ((std_v1 ** 2 / n_v1) ** 2 / (n_v1 - 1) + (std_v2 ** 2 / n_v2) ** 2 / (n_v2 - 1))\n",
        "\n",
        "    # Calculate p-value\n",
        "    p_value = 2 * (1 - stats.t.cdf(abs(t_stat), df=df))\n",
        "\n",
        "    return t_stat, df, p_value\n",
        "\n",
        "# Given data\n",
        "version1_scores = [85, 88, 82, 89, 87, 84, 90, 88, 85, 86, 91, 83, 87, 84, 89, 86, 84, 88, 85, 86, 89, 90, 87, 88, 85]\n",
        "version2_scores = [80, 78, 83, 81, 79, 82, 76, 80, 78, 81, 77, 82, 80, 79, 82, 79, 80, 81, 79, 82, 79, 78, 80, 81, 82]\n",
        "\n",
        "# Perform the analysis\n",
        "t_statistic, degrees_of_freedom, p_value = quality_comparison(version1_scores, version2_scores)\n",
        "\n",
        "print(f\"T-Statistic: {t_statistic}\")\n",
        "print(f\"Degrees of Freedom: {degrees_of_freedom}\")\n",
        "print(f\"P-Value: {p_value}\")\n"
      ],
      "metadata": {
        "colab": {
          "base_uri": "https://localhost:8080/"
        },
        "id": "nbDWQN4Sfrxc",
        "outputId": "9475e894-f27f-42cb-f93e-0f3d17cd5850"
      },
      "execution_count": 14,
      "outputs": [
        {
          "output_type": "stream",
          "name": "stdout",
          "text": [
            "T-Statistic: 11.325830417646698\n",
            "Degrees of Freedom: 44.47061033283036\n",
            "P-Value: 1.0658141036401503e-14\n"
          ]
        }
      ]
    },
    {
      "cell_type": "markdown",
      "source": [
        "**Interpretation:**\n",
        "\n",
        "**T-Statistic:** This value indicates how many standard errors the difference in means is from zero.\n",
        "\n",
        "**Degrees of Freedom:** This value helps determine the shape of the t-distribution.\n",
        "\n",
        "**P-Value:** This value indicates the probability of observing a difference as extreme as, or more extreme than, the one observed if the null hypothesis is true.\n",
        "\n",
        "If the p-value is less than a commonly used significance level (e.g., 0.05), we reject the null hypothesis and conclude that there is a statistically significant difference in quality between the two product versions."
      ],
      "metadata": {
        "id": "k9USOi5-fu2V"
      }
    },
    {
      "cell_type": "markdown",
      "source": [
        "#Question 20. A restaurant chain collects customer satisfaction scores for two different branches. Write a program to analyze the scores, calculate the t-statistic, and determine if there's a statistically significant difference in customer satisfaction between the branches.\n",
        "\n",
        "Use the below data of scores:\n",
        "\n",
        "  ```python\n",
        "\n",
        "branch_a_scores = [4, 5, 3, 4, 5, 4, 5, 3, 4, 4, 5, 4, 4, 3, 4, 5, 5, 4, 3, 4, 5, 4, 3, 5, 4, 4, 5, 3, 4, 5, 4]\n",
        "\n",
        "branch_b_scores = [3, 4, 2, 3, 4, 3, 4, 2, 3, 3, 4, 3, 3, 2, 3, 4, 4, 3, 2, 3, 4, 3, 2, 4, 3, 3, 4, 2, 3, 4, 3]\n",
        "\n",
        "\n"
      ],
      "metadata": {
        "id": "6LFBKLiegOiY"
      }
    },
    {
      "cell_type": "markdown",
      "source": [
        "#Answer:\n",
        "\n",
        "Let's create a program to analyze the customer satisfaction scores for the two branches, calculate the t-statistic, and determine if there's a statistically significant difference in customer satisfaction.\n",
        "\n",
        "**Step-by-Step Implementation:**\n",
        "\n",
        "**1.Calculate the mean and standard deviation for both sets of scores**.\n",
        "\n",
        "**2.Use the t-statistic formula:**\n",
        "\n",
        "𝑡\n",
        "=\n",
        "𝑋\n",
        "ˉ\n",
        "𝐴\n",
        "−\n",
        "𝑋\n",
        "ˉ\n",
        "𝐵\n",
        "𝑠\n",
        "𝐴\n",
        "2\n",
        "𝑛\n",
        "𝐴\n",
        "+\n",
        "𝑠\n",
        "𝐵\n",
        "2\n",
        "𝑛\n",
        "𝐵\n",
        "\n",
        "\n",
        "where\n",
        "𝑋\n",
        "ˉ\n",
        "𝐴\n",
        " and\n",
        "𝑋\n",
        "ˉ\n",
        "𝐵\n",
        " are the sample means,\n",
        "𝑠\n",
        "𝐴\n",
        " and\n",
        "𝑠\n",
        "𝐵\n",
        " are the sample standard deviations, and\n",
        "𝑛\n",
        "𝐴\n",
        " and\n",
        "𝑛\n",
        "𝐵\n",
        " are the sample sizes.\n",
        "\n",
        "**3.Determine the p-value using the t-distribution.**\n",
        "\n",
        "**Program Implementation:**\n"
      ],
      "metadata": {
        "id": "_fLUDbAmhD0A"
      }
    },
    {
      "cell_type": "code",
      "source": [
        "import numpy as np\n",
        "from scipy import stats\n",
        "\n",
        "def analyze_satisfaction(branch_a_scores, branch_b_scores):\n",
        "    # Calculate means\n",
        "    mean_a = np.mean(branch_a_scores)\n",
        "    mean_b = np.mean(branch_b_scores)\n",
        "\n",
        "    # Calculate standard deviations\n",
        "    std_a = np.std(branch_a_scores, ddof=1)\n",
        "    std_b = np.std(branch_b_scores, ddof=1)\n",
        "\n",
        "    # Sample sizes\n",
        "    n_a = len(branch_a_scores)\n",
        "    n_b = len(branch_b_scores)\n",
        "\n",
        "    # Compute t-statistic\n",
        "    t_stat = (mean_a - mean_b) / np.sqrt((std_a ** 2 / n_a) + (std_b ** 2 / n_b))\n",
        "\n",
        "    # Compute degrees of freedom\n",
        "    df = ((std_a ** 2 / n_a) + (std_b ** 2 / n_b)) ** 2 / ((std_a ** 2 / n_a) ** 2 / (n_a - 1) + (std_b ** 2 / n_b) ** 2 / (n_b - 1))\n",
        "\n",
        "    # Compute p-value\n",
        "    p_value = 2 * (1 - stats.t.cdf(abs(t_stat), df=df))\n",
        "\n",
        "    return t_stat, df, p_value\n",
        "\n",
        "# Provided data\n",
        "branch_a_scores = [4, 5, 3, 4, 5, 4, 5, 3, 4, 4, 5, 4, 4, 3, 4, 5, 5, 4, 3, 4, 5, 4, 3, 5, 4, 4, 5, 3, 4, 5, 4]\n",
        "branch_b_scores = [3, 4, 2, 3, 4, 3, 4, 2, 3, 3, 4, 3, 3, 2, 3, 4, 4, 3, 2, 3, 4, 3, 2, 4, 3, 3, 4, 2, 3, 4, 3]\n",
        "\n",
        "# Perform analysis\n",
        "t_statistic, degrees_of_freedom, p_value = analyze_satisfaction(branch_a_scores, branch_b_scores)\n",
        "\n",
        "print(f\"T-Statistic: {t_statistic}\")\n",
        "print(f\"Degrees of Freedom: {degrees_of_freedom}\")\n",
        "print(f\"P-Value: {p_value}\")\n"
      ],
      "metadata": {
        "colab": {
          "base_uri": "https://localhost:8080/"
        },
        "id": "eQJevECCh4R7",
        "outputId": "1f4c4388-a7e2-4e03-f9f2-189fbf73141f"
      },
      "execution_count": 15,
      "outputs": [
        {
          "output_type": "stream",
          "name": "stdout",
          "text": [
            "T-Statistic: 5.480077554195743\n",
            "Degrees of Freedom: 60.0\n",
            "P-Value: 8.895290508625919e-07\n"
          ]
        }
      ]
    },
    {
      "cell_type": "markdown",
      "source": [
        "**Interpretation:**\n",
        "\n",
        "**T-Statistic:** Indicates how many standard deviations the difference in means is from zero.\n",
        "\n",
        "**Degrees of Freedom:** Used to determine the shape of the t-distribution.\n",
        "\n",
        "**P-Value:** Helps determine the probability of observing a difference as extreme as, or more extreme than, the one observed if the null hypothesis is true.\n",
        "\n",
        "If the p-value is less than a common significance level (e.g., 0.05), we reject the null hypothesis and conclude that there is a statistically significant difference in customer satisfaction between the two branches.\n"
      ],
      "metadata": {
        "id": "fwYS6njvh731"
      }
    },
    {
      "cell_type": "markdown",
      "source": [
        "#Question 21. A political analyst wants to determine if there is a significant association between age groups and voter preferences (Candidate A or Candidate B). They collect data from a sample of 500 voters and classify them into different age groups and candidate preferences. Perform a Chi-Square test to determine if there is a significant association between age groups and voter preferences.\n",
        "\n",
        "Use the below code to generate data:\n",
        "\n",
        "```python\n",
        "\n",
        "np.random.seed(0)\n",
        "\n",
        "age_groups = np.random.choice([ 18 30 , 31 50 , 51+', 51+'], size=30)\n",
        "\n",
        "voter_preferences = np.random.choice(['Candidate A', 'Candidate B'], size=30)\n",
        "\n"
      ],
      "metadata": {
        "id": "4F8qIjiTiXao"
      }
    },
    {
      "cell_type": "markdown",
      "source": [
        "#Answer:\n",
        "\n",
        "Let's create a program to perform a Chi-Square test to determine if there is a significant association between age groups and voter preferences.\n",
        "\n",
        "**Step-by-Step Implementation:**\n",
        "\n",
        "1.Generate the data using the provided code.\n",
        "\n",
        "2.Create a contingency table.\n",
        "\n",
        "3.Perform the Chi-Square test.\n",
        "\n",
        "**Program Implementation:**\n"
      ],
      "metadata": {
        "id": "pjAYeQWwihzh"
      }
    },
    {
      "cell_type": "code",
      "source": [
        "import numpy as np\n",
        "import pandas as pd\n",
        "from scipy.stats import chi2_contingency\n",
        "\n",
        "# Generate data\n",
        "np.random.seed(0)\n",
        "age_groups = np.random.choice(['18-30', '31-50', '51+'], size=500)\n",
        "voter_preferences = np.random.choice(['Candidate A', 'Candidate B'], size=500)\n",
        "\n",
        "# Create a DataFrame\n",
        "data = pd.DataFrame({'Age Group': age_groups, 'Voter Preference': voter_preferences})\n",
        "\n",
        "# Create a contingency table\n",
        "contingency_table = pd.crosstab(data['Age Group'], data['Voter Preference'])\n",
        "\n",
        "# Perform the Chi-Square test\n",
        "chi2_stat, p_value, dof, expected = chi2_contingency(contingency_table)\n",
        "\n",
        "print(f\"Chi-Square Statistic: {chi2_stat}\")\n",
        "print(f\"P-Value: {p_value}\")\n",
        "print(f\"Degrees of Freedom: {dof}\")\n",
        "print(\"Expected Frequencies:\")\n",
        "print(expected)\n"
      ],
      "metadata": {
        "colab": {
          "base_uri": "https://localhost:8080/"
        },
        "id": "y443d6_oi1No",
        "outputId": "35321951-5bcf-4928-f65f-da36e9c6c7a3"
      },
      "execution_count": 16,
      "outputs": [
        {
          "output_type": "stream",
          "name": "stdout",
          "text": [
            "Chi-Square Statistic: 0.8779923945254768\n",
            "P-Value: 0.6446832311860852\n",
            "Degrees of Freedom: 2\n",
            "Expected Frequencies:\n",
            "[[96.824 85.176]\n",
            " [89.908 79.092]\n",
            " [79.268 69.732]]\n"
          ]
        }
      ]
    },
    {
      "cell_type": "markdown",
      "source": [
        "**Interpretation:**\n",
        "\n",
        "**Chi-Square Statistic:** This value indicates how much the observed frequencies deviate from the expected frequencies.\n",
        "\n",
        "**P-Value:** This value helps determine the probability of observing the data if there is no association between age groups and voter preferences.\n",
        "\n",
        "**Degrees of Freedom:** This value is used to determine the shape of the Chi-Square distribution.\n",
        "\n",
        "**Expected Frequencies:** These are the frequencies we would expect if there were no association between the variables.\n",
        "\n",
        "If the p-value is less than a commonly used significance level (e.g., 0.05), we reject the null hypothesis and conclude that there is a significant association between age groups and voter preferences."
      ],
      "metadata": {
        "id": "ESmB9TKii6cX"
      }
    },
    {
      "cell_type": "markdown",
      "source": [
        "#Question 22. A company conducted a customer satisfaction survey to determine if there is a significant relationship between product satisfaction levels (Satisfied, Neutral, Dissatisfied) and the region where customers are located (East, West, North, South). The survey data is summarized in a contingency table. Conduct a ChiSquare test to determine if there is a significant relationship between product satisfaction levels and customer regions.\n",
        "\n",
        "\n",
        "Sample data:\n",
        "\n",
        "```python\n",
        "\n",
        "#Sample data: Product satisfaction levels (rows) vs. Customer regions (columns)\n",
        "\n",
        "data = np.array([[50, 30, 40, 20], [30, 40, 30, 50], [20, 30, 40, 30]])\n",
        "\n",
        "```"
      ],
      "metadata": {
        "id": "8vSjlgc5jgoU"
      }
    },
    {
      "cell_type": "markdown",
      "source": [
        "#Answer:\n",
        "\n",
        "Let's conduct a Chi-Square test to determine if there is a significant relationship between product satisfaction levels and customer regions using the provided data.\n",
        "\n",
        "**Step-by-Step Implementation:**\n",
        "\n",
        "1.Create a contingency table from the provided data.\n",
        "\n",
        "2.Perform the Chi-Square test.\n",
        "\n",
        "3.Program Implementation:"
      ],
      "metadata": {
        "id": "krKC3cu1jnLY"
      }
    },
    {
      "cell_type": "code",
      "source": [
        "import numpy as np\n",
        "from scipy.stats import chi2_contingency\n",
        "\n",
        "# Sample data: Product satisfaction levels (rows) vs. Customer regions (columns)\n",
        "data = np.array([[50, 30, 40, 20], [30, 40, 30, 50], [20, 30, 40, 30]])\n",
        "\n",
        "# Conduct the Chi-Square test\n",
        "chi2_statistic, p_value, dof, expected_frequencies = chi2_contingency(data)\n",
        "\n",
        "print(f\"Chi-Square Statistic: {chi2_statistic}\")\n",
        "print(f\"P-Value: {p_value}\")\n",
        "print(f\"Degrees of Freedom: {dof}\")\n",
        "print(\"Expected Frequencies:\")\n",
        "print(expected_frequencies)\n"
      ],
      "metadata": {
        "colab": {
          "base_uri": "https://localhost:8080/"
        },
        "id": "AecAeNG9j27w",
        "outputId": "a84ba687-2ea4-498c-87d3-bb6a30b9b322"
      },
      "execution_count": 17,
      "outputs": [
        {
          "output_type": "stream",
          "name": "stdout",
          "text": [
            "Chi-Square Statistic: 27.777056277056275\n",
            "P-Value: 0.00010349448486004387\n",
            "Degrees of Freedom: 6\n",
            "Expected Frequencies:\n",
            "[[34.14634146 34.14634146 37.56097561 34.14634146]\n",
            " [36.58536585 36.58536585 40.24390244 36.58536585]\n",
            " [29.26829268 29.26829268 32.19512195 29.26829268]]\n"
          ]
        }
      ]
    },
    {
      "cell_type": "markdown",
      "source": [
        "**Interpretation:**\n",
        "\n",
        "**Chi-Square Statistic:** This value indicates how much the observed frequencies deviate from the expected frequencies.\n",
        "\n",
        "**P-Value:** This value helps to determine the probability of observing the data if there is no association between product satisfaction levels and customer regions.\n",
        "\n",
        "**Degrees of Freedom:** This value is used to determine the shape of the Chi-Square distribution.\n",
        "\n",
        "**Expected Frequencies:** These are the frequencies we would expect if there were no association between the variables.\n",
        "\n",
        "If the p-value is less than a common significance level (e.g., 0.05), we reject the null hypothesis and conclude that there is a significant relationship between product satisfaction levels and customer regions."
      ],
      "metadata": {
        "id": "5nN8G5sEj8v5"
      }
    },
    {
      "cell_type": "markdown",
      "source": [
        "#Question 23. A company implemented an employee training program to improve job performance (Effective, Neutral,Ineffective). After the training, they collected data from a sample of employees and classified them based on their job performance before and after the training. Perform a Chi-Square test to determine if there is a significant difference between job performance levels before and after the training.\n",
        "\n",
        "Sample data:\n",
        "\n",
        "```python\n",
        "\n",
        "# Sample data: Job performance levels before (rows) and after (columns) training\n",
        "\n",
        "data = np.array([[50, 30, 20], [30, 40, 30], [20, 30, 40]])\n",
        "\n",
        "```"
      ],
      "metadata": {
        "id": "Y3HA6reckaLg"
      }
    },
    {
      "cell_type": "markdown",
      "source": [
        "#Answer:\n",
        "\n",
        "Let's create a Python program to perform a Chi-Square test to determine if there is a significant difference in job performance levels before and after the training using the provided data.\n",
        "\n",
        "**Step-by-Step Implementation:**\n",
        "\n",
        "1.Create a contingency table from the provided data.\n",
        "\n",
        "2.Perform the Chi-Square test.\n",
        "\n",
        "**Program Implementation:**"
      ],
      "metadata": {
        "id": "HYidttahkhOz"
      }
    },
    {
      "cell_type": "code",
      "source": [
        "import numpy as np\n",
        "from scipy.stats import chi2_contingency\n",
        "\n",
        "# Sample data: Job performance levels before (rows) and after (columns) training\n",
        "data = np.array([[50, 30, 20], [30, 40, 30], [20, 30, 40]])\n",
        "\n",
        "# Perform the Chi-Square test\n",
        "chi2_stat, p_value, dof, expected_frequencies = chi2_contingency(data)\n",
        "\n",
        "print(f\"Chi-Square Statistic: {chi2_stat}\")\n",
        "print(f\"P-Value: {p_value}\")\n",
        "print(f\"Degrees of Freedom: {dof}\")\n",
        "print(\"Expected Frequencies:\")\n",
        "print(expected_frequencies)\n"
      ],
      "metadata": {
        "colab": {
          "base_uri": "https://localhost:8080/"
        },
        "id": "EuMl4Hrnkygj",
        "outputId": "818992b6-9798-47b1-dc92-a4a5b05f7270"
      },
      "execution_count": 18,
      "outputs": [
        {
          "output_type": "stream",
          "name": "stdout",
          "text": [
            "Chi-Square Statistic: 22.161728395061726\n",
            "P-Value: 0.00018609719479882557\n",
            "Degrees of Freedom: 4\n",
            "Expected Frequencies:\n",
            "[[34.48275862 34.48275862 31.03448276]\n",
            " [34.48275862 34.48275862 31.03448276]\n",
            " [31.03448276 31.03448276 27.93103448]]\n"
          ]
        }
      ]
    },
    {
      "cell_type": "markdown",
      "source": [
        "**Interpretation:**\n",
        "\n",
        "**Chi-Square Statistic:** This value indicates how much the observed frequencies deviate from the expected frequencies.\n",
        "\n",
        "**P-Value:** This value helps to determine the probability of observing the data if there is no association between job performance levels before and after the training.\n",
        "\n",
        "**Degrees of Freedom:** This value is used to determine the shape of the Chi-Square distribution.\n",
        "\n",
        "**Expected Frequencies:** These are the frequencies we would expect if there were no association between the variables.\n",
        "\n",
        "If the p-value is less than a common significance level (e.g., 0.05), we reject the null hypothesis and conclude that there is a significant difference between job performance levels before and after the training."
      ],
      "metadata": {
        "id": "mEinI7LUk3z1"
      }
    },
    {
      "cell_type": "markdown",
      "source": [
        "#Question 24. A company produces three different versions of a product: Standard, Premium, and Deluxe. The company wants to determine if there is a significant difference in customer satisfaction scores among the three product versions. They conducted a survey and collected customer satisfaction scores for each version from a random sample of customers. Perform an ANOVA test to determine if there is a significant difference in customer satisfaction scores.\n",
        "\n",
        "  Use the following data:\n",
        "\n",
        "  ```python\n",
        "\n",
        "  # Sample data: Customer satisfaction scores for each product version\n",
        "\n",
        "  standard_scores = [80, 85, 90, 78, 88, 82, 92, 78, 85, 87]\n",
        "\n",
        "  premium_scores = [90, 92, 88, 92, 95, 91, 96, 93, 89, 93]\n",
        "\n",
        "  deluxe_scores = [95, 98, 92, 97, 96, 94, 98, 97, 92, 99]"
      ],
      "metadata": {
        "id": "kJwJPAD2llbW"
      }
    },
    {
      "cell_type": "markdown",
      "source": [
        "#Answer:\n",
        "\n",
        "Let's perform an ANOVA test to determine if there is a significant difference in customer satisfaction scores among the three product versions using the provided data.\n",
        "\n",
        "**Step-by-Step Implementation:**\n",
        "\n",
        "1.Load the data for each product version.\n",
        "\n",
        "2.Perform the ANOVA test.\n",
        "\n",
        "3.Interpret the results.\n",
        "\n",
        "**Program Implementation:**"
      ],
      "metadata": {
        "id": "i9OpKuOblsED"
      }
    },
    {
      "cell_type": "code",
      "source": [
        "import numpy as np\n",
        "from scipy.stats import f_oneway\n",
        "\n",
        "# Sample data: Customer satisfaction scores for each product version\n",
        "standard_scores = [80, 85, 90, 78, 88, 82, 92, 78, 85, 87]\n",
        "premium_scores = [90, 92, 88, 92, 95, 91, 96, 93, 89, 93]\n",
        "deluxe_scores = [95, 98, 92, 97, 96, 94, 98, 97, 92, 99]\n",
        "\n",
        "# Perform the ANOVA test\n",
        "f_statistic, p_value = f_oneway(standard_scores, premium_scores, deluxe_scores)\n",
        "\n",
        "print(f\"F-Statistic: {f_statistic}\")\n",
        "print(f\"P-Value: {p_value}\")\n"
      ],
      "metadata": {
        "colab": {
          "base_uri": "https://localhost:8080/"
        },
        "id": "vqCToTSbl71e",
        "outputId": "7914763f-236f-41f9-8ab0-a1377a83afaa"
      },
      "execution_count": 19,
      "outputs": [
        {
          "output_type": "stream",
          "name": "stdout",
          "text": [
            "F-Statistic: 27.03556231003039\n",
            "P-Value: 3.5786328857349003e-07\n"
          ]
        }
      ]
    },
    {
      "cell_type": "markdown",
      "source": [
        "**Interpretation:**\n",
        "\n",
        "**F-Statistic:** This value measures the ratio of the variance between the groups to the variance within the groups.\n",
        "\n",
        "**P-Value:** This value helps determine the probability of observing the data if there is no difference in customer satisfaction scores among the product versions.\n",
        "\n",
        "If the p-value is less than a common significance level (e.g., 0.05), we reject the null hypothesis and conclude that there is a significant difference in customer satisfaction scores among the three product versions."
      ],
      "metadata": {
        "id": "xtWW8wcSl_0d"
      }
    },
    {
      "cell_type": "markdown",
      "source": [
        "=======================THE-END=========================="
      ],
      "metadata": {
        "id": "c9PhA6V8mFe_"
      }
    }
  ]
}